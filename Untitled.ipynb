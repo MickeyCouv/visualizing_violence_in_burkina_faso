{
  "nbformat": 4,
  "nbformat_minor": 5,
  "metadata": {
    "noteable": {
      "last_transaction_id": "d0298400-cb94-47d1-9467-e72ea8b209a6",
      "db_connection": "@noteable"
    },
    "selected_hardware_size": "small"
  },
  "cells": [
    {
      "id": "5f0bd683-504e-47a5-a734-50ee90f33eed",
      "cell_type": "code",
      "metadata": {
        "jupyter": {
          "outputs_hidden": false,
          "source_hidden": false
        },
        "noteable": {
          "cell_type": "code",
          "output_collection_id": "50caa010-6579-4cee-be48-81fc89e5e755"
        },
        "datalink": {
          "4999e8fc-0985-482f-91c2-042a1af516af": {
            "applied_filters": [],
            "dataframe_info": {
              "default_index_used": true,
              "orig_num_cols": 17,
              "orig_num_rows": 8527,
              "orig_size_bytes": 1159800,
              "truncated_num_cols": 18,
              "truncated_num_rows": 8527,
              "truncated_size_bytes": 1228016
            },
            "display_id": "4999e8fc-0985-482f-91c2-042a1af516af",
            "dx_settings": {
              "ALLOW_NOTEABLE_ATTRS": true,
              "COLUMN_SAMPLING_METHOD": "outer",
              "DB_LOCATION": ":memory:",
              "DEV_MODE": false,
              "DISPLAY_MAX_COLUMNS": 50,
              "DISPLAY_MAX_ROWS": 50000,
              "DISPLAY_MODE": "simple",
              "ENABLE_ASSIGNMENT": true,
              "ENABLE_DATALINK": false,
              "ENABLE_RENAMER": true,
              "FLATTEN_COLUMN_VALUES": true,
              "FLATTEN_INDEX_VALUES": false,
              "GENERATE_DEX_METADATA": false,
              "HTML_TABLE_SCHEMA": false,
              "LOG_LEVEL": 30,
              "MAX_RENDER_SIZE_BYTES": 104857600,
              "NUM_PAST_SAMPLES_TRACKED": 3,
              "RANDOM_STATE": 12648430,
              "RESET_INDEX_VALUES": false,
              "ROW_SAMPLING_METHOD": "random",
              "SAMPLING_FACTOR": 0.1,
              "SAMPLING_METHOD": "random",
              "STRINGIFY_COLUMN_VALUES": true,
              "STRINGIFY_INDEX_VALUES": false
            },
            "sample_history": [],
            "sampling_time": "2023-05-14T15:37:16.309809",
            "user_variable_name": "pd.read_csv('burkina_df.csv')",
            "variable_name": "CSV_TO_GRID_DF"
          },
          "16a1a174-a44c-4c0c-b922-e17e4a635df5": {
            "applied_filters": [],
            "dataframe_info": {
              "default_index_used": true,
              "orig_num_cols": 17,
              "orig_num_rows": 5,
              "orig_size_bytes": 808,
              "truncated_num_cols": 17,
              "truncated_num_rows": 5,
              "truncated_size_bytes": 808,
              "truncated_string_columns": []
            },
            "display_id": "16a1a174-a44c-4c0c-b922-e17e4a635df5",
            "dx_settings": {
              "ALLOW_NOTEABLE_ATTRS": true,
              "COLUMN_SAMPLING_METHOD": "outer",
              "DB_LOCATION": ":memory:",
              "DEV_MODE": false,
              "DISPLAY_MAX_COLUMNS": 100,
              "DISPLAY_MAX_ROWS": 50000,
              "DISPLAY_MODE": "simple",
              "ENABLE_ASSIGNMENT": true,
              "ENABLE_DATALINK": true,
              "FLATTEN_COLUMN_VALUES": true,
              "FLATTEN_INDEX_VALUES": false,
              "GENERATE_DEX_METADATA": false,
              "HTML_TABLE_SCHEMA": false,
              "LOG_LEVEL": 30,
              "MAX_RENDER_SIZE_BYTES": 104857600,
              "MAX_STRING_LENGTH": 250,
              "NUM_PAST_SAMPLES_TRACKED": 3,
              "RANDOM_STATE": 12648430,
              "RESET_INDEX_VALUES": false,
              "ROW_SAMPLING_METHOD": "random",
              "SAMPLING_FACTOR": 0.1,
              "SAMPLING_METHOD": "random",
              "STRINGIFY_COLUMN_VALUES": true,
              "STRINGIFY_INDEX_VALUES": false
            },
            "sample_history": [],
            "sampling_time": "2023-05-14T15:43:20.262158",
            "user_variable_name": null,
            "variable_name": "unk_dataframe_80388d57925443c19b0d838d7086b11f"
          },
          "74e5c534-85d7-4925-86df-15dee526b9c7": {
            "applied_filters": [],
            "dataframe_info": {
              "default_index_used": true,
              "orig_num_cols": 18,
              "orig_num_rows": 5,
              "orig_size_bytes": 848,
              "truncated_num_cols": 18,
              "truncated_num_rows": 5,
              "truncated_size_bytes": 848,
              "truncated_string_columns": []
            },
            "display_id": "74e5c534-85d7-4925-86df-15dee526b9c7",
            "dx_settings": {
              "ALLOW_NOTEABLE_ATTRS": true,
              "COLUMN_SAMPLING_METHOD": "outer",
              "DB_LOCATION": ":memory:",
              "DEV_MODE": false,
              "DISPLAY_MAX_COLUMNS": 100,
              "DISPLAY_MAX_ROWS": 50000,
              "DISPLAY_MODE": "simple",
              "ENABLE_ASSIGNMENT": true,
              "ENABLE_DATALINK": true,
              "FLATTEN_COLUMN_VALUES": true,
              "FLATTEN_INDEX_VALUES": false,
              "GENERATE_DEX_METADATA": false,
              "HTML_TABLE_SCHEMA": false,
              "LOG_LEVEL": 30,
              "MAX_RENDER_SIZE_BYTES": 104857600,
              "MAX_STRING_LENGTH": 250,
              "NUM_PAST_SAMPLES_TRACKED": 3,
              "RANDOM_STATE": 12648430,
              "RESET_INDEX_VALUES": false,
              "ROW_SAMPLING_METHOD": "random",
              "SAMPLING_FACTOR": 0.1,
              "SAMPLING_METHOD": "random",
              "STRINGIFY_COLUMN_VALUES": true,
              "STRINGIFY_INDEX_VALUES": false
            },
            "sample_history": [],
            "sampling_time": "2023-05-14T15:48:43.240796",
            "user_variable_name": null,
            "variable_name": "unk_dataframe_0aa8fb9180cd41ddba507feac29a37d4"
          },
          "cd996ece-52a6-4d2b-9b7e-ca830d10510a": {
            "applied_filters": [],
            "dataframe_info": {
              "default_index_used": false,
              "orig_num_cols": 16,
              "orig_num_rows": 8527,
              "orig_size_bytes": 1159672,
              "truncated_num_cols": 16,
              "truncated_num_rows": 8527,
              "truncated_size_bytes": 1159672,
              "truncated_string_columns": [
                "ASSOC_ACTOR_1",
                "NOTES"
              ]
            },
            "display_id": "cd996ece-52a6-4d2b-9b7e-ca830d10510a",
            "dx_settings": {
              "ALLOW_NOTEABLE_ATTRS": true,
              "COLUMN_SAMPLING_METHOD": "outer",
              "DB_LOCATION": ":memory:",
              "DEV_MODE": false,
              "DISPLAY_MAX_COLUMNS": 100,
              "DISPLAY_MAX_ROWS": 50000,
              "DISPLAY_MODE": "simple",
              "ENABLE_ASSIGNMENT": true,
              "ENABLE_DATALINK": true,
              "FLATTEN_COLUMN_VALUES": true,
              "FLATTEN_INDEX_VALUES": false,
              "GENERATE_DEX_METADATA": false,
              "HTML_TABLE_SCHEMA": false,
              "LOG_LEVEL": 30,
              "MAX_RENDER_SIZE_BYTES": 104857600,
              "MAX_STRING_LENGTH": 250,
              "NUM_PAST_SAMPLES_TRACKED": 3,
              "RANDOM_STATE": 12648430,
              "RESET_INDEX_VALUES": false,
              "ROW_SAMPLING_METHOD": "random",
              "SAMPLING_FACTOR": 0.1,
              "SAMPLING_METHOD": "random",
              "STRINGIFY_COLUMN_VALUES": true,
              "STRINGIFY_INDEX_VALUES": false
            },
            "sample_history": [],
            "sampling_time": "2023-05-14T15:51:15.494152",
            "user_variable_name": "burkina_df",
            "variable_name": "burkina_df"
          },
          "81b25d86-3467-452c-a20b-1936ef5571e0": {
            "applied_filters": [],
            "dataframe_info": {
              "default_index_used": true,
              "orig_num_cols": 17,
              "orig_num_rows": 8527,
              "orig_size_bytes": 1159800,
              "truncated_num_cols": 17,
              "truncated_num_rows": 8527,
              "truncated_size_bytes": 1159800,
              "truncated_string_columns": [
                "ASSOC_ACTOR_1",
                "NOTES"
              ]
            },
            "display_id": "81b25d86-3467-452c-a20b-1936ef5571e0",
            "dx_settings": {
              "ALLOW_NOTEABLE_ATTRS": true,
              "COLUMN_SAMPLING_METHOD": "outer",
              "DB_LOCATION": ":memory:",
              "DEV_MODE": false,
              "DISPLAY_MAX_COLUMNS": 100,
              "DISPLAY_MAX_ROWS": 50000,
              "DISPLAY_MODE": "simple",
              "ENABLE_ASSIGNMENT": true,
              "ENABLE_DATALINK": true,
              "FLATTEN_COLUMN_VALUES": true,
              "FLATTEN_INDEX_VALUES": false,
              "GENERATE_DEX_METADATA": false,
              "HTML_TABLE_SCHEMA": false,
              "LOG_LEVEL": 30,
              "MAX_RENDER_SIZE_BYTES": 104857600,
              "MAX_STRING_LENGTH": 250,
              "NUM_PAST_SAMPLES_TRACKED": 3,
              "RANDOM_STATE": 12648430,
              "RESET_INDEX_VALUES": false,
              "ROW_SAMPLING_METHOD": "random",
              "SAMPLING_FACTOR": 0.1,
              "SAMPLING_METHOD": "random",
              "STRINGIFY_COLUMN_VALUES": true,
              "STRINGIFY_INDEX_VALUES": false
            },
            "sample_history": [],
            "sampling_time": "2023-05-14T16:05:59.545603",
            "user_variable_name": "burkina_df",
            "variable_name": "burkina_df"
          },
          "37079803-a573-4e65-b40a-604634ba06cc": {
            "applied_filters": [],
            "dataframe_info": {
              "default_index_used": true,
              "orig_num_cols": 17,
              "orig_num_rows": 8527,
              "orig_size_bytes": 1159800,
              "truncated_num_cols": 17,
              "truncated_num_rows": 8527,
              "truncated_size_bytes": 1159800,
              "truncated_string_columns": [
                "ASSOC_ACTOR_1",
                "NOTES"
              ]
            },
            "display_id": "37079803-a573-4e65-b40a-604634ba06cc",
            "dx_settings": {
              "ALLOW_NOTEABLE_ATTRS": true,
              "COLUMN_SAMPLING_METHOD": "outer",
              "DB_LOCATION": ":memory:",
              "DEV_MODE": false,
              "DISPLAY_MAX_COLUMNS": 100,
              "DISPLAY_MAX_ROWS": 50000,
              "DISPLAY_MODE": "simple",
              "ENABLE_ASSIGNMENT": true,
              "ENABLE_DATALINK": true,
              "FLATTEN_COLUMN_VALUES": true,
              "FLATTEN_INDEX_VALUES": false,
              "GENERATE_DEX_METADATA": false,
              "HTML_TABLE_SCHEMA": false,
              "LOG_LEVEL": 30,
              "MAX_RENDER_SIZE_BYTES": 104857600,
              "MAX_STRING_LENGTH": 250,
              "NUM_PAST_SAMPLES_TRACKED": 3,
              "RANDOM_STATE": 12648430,
              "RESET_INDEX_VALUES": false,
              "ROW_SAMPLING_METHOD": "random",
              "SAMPLING_FACTOR": 0.1,
              "SAMPLING_METHOD": "random",
              "STRINGIFY_COLUMN_VALUES": true,
              "STRINGIFY_INDEX_VALUES": false
            },
            "sample_history": [],
            "sampling_time": "2023-05-14T17:31:25.702408",
            "user_variable_name": "burkina_df",
            "variable_name": "burkina_df"
          }
        },
        "dx": {
          "fieldMetadata": {},
          "simpleTable": true,
          "updated": 1684078869887,
          "views": []
        },
        "ExecuteTime": {
          "end_time": "2023-05-14T17:31:25.983238+00:00",
          "start_time": "2023-05-14T17:31:25.203548+00:00"
        }
      },
      "execution_count": null,
      "source": "burkina_df = pd.read_csv('burkina_df.csv')\nburkina_df.set_index('EVENT_DATE', inplace=True)\nburkina_df.reset_index(inplace=True)\nburkina_df",
      "outputs": []
    },
    {
      "id": "0f27c8868b9f470e867cc37dbdf61190",
      "cell_type": "code",
      "metadata": {
        "noteable": {
          "assign_results_to": "sql_df_1",
          "cell_type": "sql",
          "db_connection": "@noteable",
          "output_collection_id": "e285bba1-1348-4aab-9ecd-6b52d8428152"
        },
        "ExecuteTime": {
          "end_time": "2023-05-14T17:31:37.995545+00:00",
          "start_time": "2023-05-14T17:31:37.129373+00:00"
        },
        "datalink": {
          "ac48825e-bef8-43d9-9ec2-ea2e393dc64a": {
            "applied_filters": [],
            "dataframe_info": {
              "default_index_used": true,
              "orig_num_cols": 16,
              "orig_num_rows": 8527,
              "orig_size_bytes": 1091584,
              "truncated_num_cols": 16,
              "truncated_num_rows": 8527,
              "truncated_size_bytes": 1091584,
              "truncated_string_columns": [
                "ASSOC_ACTOR_1",
                "NOTES"
              ]
            },
            "display_id": "ac48825e-bef8-43d9-9ec2-ea2e393dc64a",
            "dx_settings": {
              "ALLOW_NOTEABLE_ATTRS": true,
              "COLUMN_SAMPLING_METHOD": "outer",
              "DB_LOCATION": ":memory:",
              "DEV_MODE": false,
              "DISPLAY_MAX_COLUMNS": 100,
              "DISPLAY_MAX_ROWS": 50000,
              "DISPLAY_MODE": "simple",
              "ENABLE_ASSIGNMENT": true,
              "ENABLE_DATALINK": true,
              "FLATTEN_COLUMN_VALUES": true,
              "FLATTEN_INDEX_VALUES": false,
              "GENERATE_DEX_METADATA": false,
              "HTML_TABLE_SCHEMA": false,
              "LOG_LEVEL": 30,
              "MAX_RENDER_SIZE_BYTES": 104857600,
              "MAX_STRING_LENGTH": 250,
              "NUM_PAST_SAMPLES_TRACKED": 3,
              "RANDOM_STATE": 12648430,
              "RESET_INDEX_VALUES": false,
              "ROW_SAMPLING_METHOD": "random",
              "SAMPLING_FACTOR": 0.1,
              "SAMPLING_METHOD": "random",
              "STRINGIFY_COLUMN_VALUES": true,
              "STRINGIFY_INDEX_VALUES": false
            },
            "sample_history": [],
            "sampling_time": "2023-05-14T16:00:35.826222",
            "user_variable_name": "sql_df_1",
            "variable_name": "sql_df_1"
          },
          "9f3762f6-e14a-4488-8cec-7d1ec067e387": {
            "applied_filters": [],
            "dataframe_info": {
              "default_index_used": true,
              "orig_num_cols": 17,
              "orig_num_rows": 8212,
              "orig_size_bytes": 1116960,
              "truncated_num_cols": 17,
              "truncated_num_rows": 8212,
              "truncated_size_bytes": 1116960,
              "truncated_string_columns": [
                "ASSOC_ACTOR_1",
                "NOTES"
              ]
            },
            "display_id": "9f3762f6-e14a-4488-8cec-7d1ec067e387",
            "dx_settings": {
              "ALLOW_NOTEABLE_ATTRS": true,
              "COLUMN_SAMPLING_METHOD": "outer",
              "DB_LOCATION": ":memory:",
              "DEV_MODE": false,
              "DISPLAY_MAX_COLUMNS": 100,
              "DISPLAY_MAX_ROWS": 50000,
              "DISPLAY_MODE": "simple",
              "ENABLE_ASSIGNMENT": true,
              "ENABLE_DATALINK": true,
              "FLATTEN_COLUMN_VALUES": true,
              "FLATTEN_INDEX_VALUES": false,
              "GENERATE_DEX_METADATA": false,
              "HTML_TABLE_SCHEMA": false,
              "LOG_LEVEL": 30,
              "MAX_RENDER_SIZE_BYTES": 104857600,
              "MAX_STRING_LENGTH": 250,
              "NUM_PAST_SAMPLES_TRACKED": 3,
              "RANDOM_STATE": 12648430,
              "RESET_INDEX_VALUES": false,
              "ROW_SAMPLING_METHOD": "random",
              "SAMPLING_FACTOR": 0.1,
              "SAMPLING_METHOD": "random",
              "STRINGIFY_COLUMN_VALUES": true,
              "STRINGIFY_INDEX_VALUES": false
            },
            "sample_history": [],
            "sampling_time": "2023-05-14T16:09:33.176228",
            "user_variable_name": "sql_df_1",
            "variable_name": "sql_df_1"
          },
          "abb950bb-e08e-42cb-aaa5-7886e2433fdc": {
            "applied_filters": [],
            "dataframe_info": {
              "default_index_used": true,
              "orig_num_cols": 17,
              "orig_num_rows": 8212,
              "orig_size_bytes": 1116960,
              "truncated_num_cols": 17,
              "truncated_num_rows": 8212,
              "truncated_size_bytes": 1116960,
              "truncated_string_columns": [
                "ASSOC_ACTOR_1",
                "NOTES"
              ]
            },
            "display_id": "abb950bb-e08e-42cb-aaa5-7886e2433fdc",
            "dx_settings": {
              "ALLOW_NOTEABLE_ATTRS": true,
              "COLUMN_SAMPLING_METHOD": "outer",
              "DB_LOCATION": ":memory:",
              "DEV_MODE": false,
              "DISPLAY_MAX_COLUMNS": 100,
              "DISPLAY_MAX_ROWS": 50000,
              "DISPLAY_MODE": "simple",
              "ENABLE_ASSIGNMENT": true,
              "ENABLE_DATALINK": true,
              "FLATTEN_COLUMN_VALUES": true,
              "FLATTEN_INDEX_VALUES": false,
              "GENERATE_DEX_METADATA": false,
              "HTML_TABLE_SCHEMA": false,
              "LOG_LEVEL": 30,
              "MAX_RENDER_SIZE_BYTES": 104857600,
              "MAX_STRING_LENGTH": 250,
              "NUM_PAST_SAMPLES_TRACKED": 3,
              "RANDOM_STATE": 12648430,
              "RESET_INDEX_VALUES": false,
              "ROW_SAMPLING_METHOD": "random",
              "SAMPLING_FACTOR": 0.1,
              "SAMPLING_METHOD": "random",
              "STRINGIFY_COLUMN_VALUES": true,
              "STRINGIFY_INDEX_VALUES": false
            },
            "sample_history": [],
            "sampling_time": "2023-05-14T17:31:37.716751",
            "user_variable_name": "sql_df_1",
            "variable_name": "sql_df_1"
          }
        }
      },
      "execution_count": null,
      "source": "SELECT *\nFROM burkina_df\nWHERE EVENT_DATE BETWEEN '2013-01-01' AND (SELECT MAX(EVENT_DATE) FROM burkina_df);",
      "outputs": []
    },
    {
      "id": "94a917f4-d92a-4de0-b99c-d24ce84db66f",
      "cell_type": "code",
      "metadata": {
        "jupyter": {
          "outputs_hidden": false,
          "source_hidden": false
        },
        "noteable": {
          "cell_type": "code",
          "output_collection_id": "7ac3e7b2-9f9c-48ca-91e0-6f8413f42093"
        },
        "ExecuteTime": {
          "end_time": "2023-05-14T17:31:59.096994+00:00",
          "start_time": "2023-05-14T17:31:58.856288+00:00"
        },
        "datalink": {
          "0fbf4e45-73a5-44e0-aca0-ce581e102c13": {
            "applied_filters": [],
            "dataframe_info": {
              "default_index_used": true,
              "orig_num_cols": 17,
              "orig_num_rows": 5,
              "orig_size_bytes": 808,
              "truncated_num_cols": 17,
              "truncated_num_rows": 5,
              "truncated_size_bytes": 808,
              "truncated_string_columns": [
                "NOTES"
              ]
            },
            "display_id": "0fbf4e45-73a5-44e0-aca0-ce581e102c13",
            "dx_settings": {
              "ALLOW_NOTEABLE_ATTRS": true,
              "COLUMN_SAMPLING_METHOD": "outer",
              "DB_LOCATION": ":memory:",
              "DEV_MODE": false,
              "DISPLAY_MAX_COLUMNS": 100,
              "DISPLAY_MAX_ROWS": 50000,
              "DISPLAY_MODE": "simple",
              "ENABLE_ASSIGNMENT": true,
              "ENABLE_DATALINK": true,
              "FLATTEN_COLUMN_VALUES": true,
              "FLATTEN_INDEX_VALUES": false,
              "GENERATE_DEX_METADATA": false,
              "HTML_TABLE_SCHEMA": false,
              "LOG_LEVEL": 30,
              "MAX_RENDER_SIZE_BYTES": 104857600,
              "MAX_STRING_LENGTH": 250,
              "NUM_PAST_SAMPLES_TRACKED": 3,
              "RANDOM_STATE": 12648430,
              "RESET_INDEX_VALUES": false,
              "ROW_SAMPLING_METHOD": "random",
              "SAMPLING_FACTOR": 0.1,
              "SAMPLING_METHOD": "random",
              "STRINGIFY_COLUMN_VALUES": true,
              "STRINGIFY_INDEX_VALUES": false
            },
            "sample_history": [],
            "sampling_time": "2023-05-14T16:10:43.281244",
            "user_variable_name": null,
            "variable_name": "unk_dataframe_b2e00494c52049d2af0e27a0dc5162f4"
          },
          "a358998a-e19d-417e-bf56-dc1d37325590": {
            "applied_filters": [],
            "dataframe_info": {
              "default_index_used": true,
              "orig_num_cols": 17,
              "orig_num_rows": 5,
              "orig_size_bytes": 808,
              "truncated_num_cols": 17,
              "truncated_num_rows": 5,
              "truncated_size_bytes": 808,
              "truncated_string_columns": [
                "NOTES"
              ]
            },
            "display_id": "a358998a-e19d-417e-bf56-dc1d37325590",
            "dx_settings": {
              "ALLOW_NOTEABLE_ATTRS": true,
              "COLUMN_SAMPLING_METHOD": "outer",
              "DB_LOCATION": ":memory:",
              "DEV_MODE": false,
              "DISPLAY_MAX_COLUMNS": 100,
              "DISPLAY_MAX_ROWS": 50000,
              "DISPLAY_MODE": "simple",
              "ENABLE_ASSIGNMENT": true,
              "ENABLE_DATALINK": true,
              "FLATTEN_COLUMN_VALUES": true,
              "FLATTEN_INDEX_VALUES": false,
              "GENERATE_DEX_METADATA": false,
              "HTML_TABLE_SCHEMA": false,
              "LOG_LEVEL": 30,
              "MAX_RENDER_SIZE_BYTES": 104857600,
              "MAX_STRING_LENGTH": 250,
              "NUM_PAST_SAMPLES_TRACKED": 3,
              "RANDOM_STATE": 12648430,
              "RESET_INDEX_VALUES": false,
              "ROW_SAMPLING_METHOD": "random",
              "SAMPLING_FACTOR": 0.1,
              "SAMPLING_METHOD": "random",
              "STRINGIFY_COLUMN_VALUES": true,
              "STRINGIFY_INDEX_VALUES": false
            },
            "sample_history": [],
            "sampling_time": "2023-05-14T17:31:58.936883",
            "user_variable_name": null,
            "variable_name": "unk_dataframe_e4cbd1b927e64db0970aef6daca10734"
          }
        }
      },
      "execution_count": null,
      "source": "sql_df_1.head()",
      "outputs": []
    },
    {
      "id": "c8d82456-f48c-429e-ae0c-32f861ce6825",
      "cell_type": "code",
      "metadata": {
        "jupyter": {
          "outputs_hidden": false,
          "source_hidden": false
        },
        "noteable": {
          "cell_type": "code",
          "output_collection_id": "22b8c883-860b-4f44-86eb-f8922246b3ca"
        },
        "ExecuteTime": {
          "end_time": "2023-05-14T17:32:09.458549+00:00",
          "start_time": "2023-05-14T17:32:09.280168+00:00"
        }
      },
      "execution_count": null,
      "source": "sql_df_1.info()",
      "outputs": []
    },
    {
      "id": "b2baaee8-05b3-4b0d-82fe-68b2df9fbc99",
      "cell_type": "code",
      "metadata": {
        "jupyter": {
          "outputs_hidden": false,
          "source_hidden": false
        },
        "noteable": {
          "cell_type": "code",
          "output_collection_id": "da22fa35-f84c-4d41-98de-cefd579e73d2"
        },
        "ExecuteTime": {
          "end_time": "2023-05-14T17:32:13.265344+00:00",
          "start_time": "2023-05-14T17:32:12.428612+00:00"
        },
        "datalink": {
          "d768f467-f2e8-4d4c-bc96-cdfae27c9054": {
            "applied_filters": [],
            "dataframe_info": {
              "default_index_used": true,
              "orig_num_cols": 17,
              "orig_num_rows": 8212,
              "orig_size_bytes": 1116960,
              "truncated_num_cols": 17,
              "truncated_num_rows": 8212,
              "truncated_size_bytes": 1116960,
              "truncated_string_columns": [
                "ASSOC_ACTOR_1",
                "NOTES"
              ]
            },
            "display_id": "d768f467-f2e8-4d4c-bc96-cdfae27c9054",
            "dx_settings": {
              "ALLOW_NOTEABLE_ATTRS": true,
              "COLUMN_SAMPLING_METHOD": "outer",
              "DB_LOCATION": ":memory:",
              "DEV_MODE": false,
              "DISPLAY_MAX_COLUMNS": 100,
              "DISPLAY_MAX_ROWS": 50000,
              "DISPLAY_MODE": "simple",
              "ENABLE_ASSIGNMENT": true,
              "ENABLE_DATALINK": true,
              "FLATTEN_COLUMN_VALUES": true,
              "FLATTEN_INDEX_VALUES": false,
              "GENERATE_DEX_METADATA": false,
              "HTML_TABLE_SCHEMA": false,
              "LOG_LEVEL": 30,
              "MAX_RENDER_SIZE_BYTES": 104857600,
              "MAX_STRING_LENGTH": 250,
              "NUM_PAST_SAMPLES_TRACKED": 3,
              "RANDOM_STATE": 12648430,
              "RESET_INDEX_VALUES": false,
              "ROW_SAMPLING_METHOD": "random",
              "SAMPLING_FACTOR": 0.1,
              "SAMPLING_METHOD": "random",
              "STRINGIFY_COLUMN_VALUES": true,
              "STRINGIFY_INDEX_VALUES": false
            },
            "sample_history": [],
            "sampling_time": "2023-05-14T16:25:32.328952",
            "user_variable_name": "burkina_df",
            "variable_name": "burkina_df"
          },
          "7f1ab0b5-40a8-406d-8dbd-833fe8bd998a": {
            "applied_filters": [],
            "dataframe_info": {
              "default_index_used": true,
              "orig_num_cols": 17,
              "orig_num_rows": 8212,
              "orig_size_bytes": 1116960,
              "truncated_num_cols": 17,
              "truncated_num_rows": 8212,
              "truncated_size_bytes": 1116960,
              "truncated_string_columns": [
                "ASSOC_ACTOR_1",
                "NOTES"
              ]
            },
            "display_id": "7f1ab0b5-40a8-406d-8dbd-833fe8bd998a",
            "dx_settings": {
              "ALLOW_NOTEABLE_ATTRS": true,
              "COLUMN_SAMPLING_METHOD": "outer",
              "DB_LOCATION": ":memory:",
              "DEV_MODE": false,
              "DISPLAY_MAX_COLUMNS": 100,
              "DISPLAY_MAX_ROWS": 50000,
              "DISPLAY_MODE": "simple",
              "ENABLE_ASSIGNMENT": true,
              "ENABLE_DATALINK": true,
              "FLATTEN_COLUMN_VALUES": true,
              "FLATTEN_INDEX_VALUES": false,
              "GENERATE_DEX_METADATA": false,
              "HTML_TABLE_SCHEMA": false,
              "LOG_LEVEL": 30,
              "MAX_RENDER_SIZE_BYTES": 104857600,
              "MAX_STRING_LENGTH": 250,
              "NUM_PAST_SAMPLES_TRACKED": 3,
              "RANDOM_STATE": 12648430,
              "RESET_INDEX_VALUES": false,
              "ROW_SAMPLING_METHOD": "random",
              "SAMPLING_FACTOR": 0.1,
              "SAMPLING_METHOD": "random",
              "STRINGIFY_COLUMN_VALUES": true,
              "STRINGIFY_INDEX_VALUES": false
            },
            "sample_history": [],
            "sampling_time": "2023-05-14T17:32:12.972583",
            "user_variable_name": "burkina_df",
            "variable_name": "burkina_df"
          }
        },
        "dx": {
          "dashboard": {
            "multiViews": [
              {
                "dashboardFilter": true,
                "decoration": {
                  "footer": "Data from 01/01/2013-04/28/2023",
                  "subtitle": "Visualizing Violence in Burkina Faso",
                  "title": "Burkina Faso"
                },
                "filterSettings": {
                  "SHOW_FILTER_PANEL": true,
                  "filters": []
                },
                "id": "f9df7f9a-ce3f-4369-a3b5-63aa2ecb5e43",
                "viewSizes": {},
                "views": [
                  {
                    "column": 0,
                    "id": "6d1f15ff-7696-4952-90f3-8a6c8bca6ace",
                    "row": 0
                  }
                ],
                "viewsIgnoringDashboardFilters": {}
              }
            ]
          },
          "fieldMetadata": {},
          "updated": 1684085289666,
          "views": [
            {
              "annotationRules": [],
              "chart": {
                "facets": [],
                "layerSettings": [
                  {
                    "combinationMetric": "FATALITIES",
                    "combinationMode": "MAX",
                    "fill": "#ffffff",
                    "hoverOpts": {},
                    "id": "0a3cdeb3-83f2-4511-95a1-dfe14fb3b9ed",
                    "joinDim": "LOCATION",
                    "stroke": "#000000",
                    "strokeWidth": 0,
                    "transparency": 0.9,
                    "type": "choro"
                  },
                  {
                    "aggValue": "none",
                    "color": "#000000",
                    "hoverOpts": {
                      "dims": [
                        "EVENT_DATE",
                        "SUB_EVENT_TYPE",
                        "CIVILIAN_TARGETING"
                      ],
                      "mets": [
                        "FATALITIES"
                      ]
                    },
                    "id": "a2045d07-24fe-4c50-af11-b78f768e1435",
                    "latDim": "LATITUDE",
                    "longDim": "LONGITUDE",
                    "pointSizeOpts": {
                      "max": 160,
                      "met": "FATALITIES",
                      "min": 1,
                      "mode": "functional",
                      "scale": "Linear",
                      "size": 2,
                      "sizeMax": 10,
                      "sizeMin": 1
                    },
                    "size": 2,
                    "stroke": "#000000",
                    "strokeWidth": 0.25,
                    "tileLayer": "outdoors-v11",
                    "transparency": 0.7,
                    "type": "point"
                  }
                ],
                "mapMode": "tile",
                "mapZoom": "data",
                "suggestionFields": [
                  "FATALITIES - Metric",
                  "EVENT_DATE - Dimension"
                ]
              },
              "chartMode": "tilemap",
              "confoRules": [],
              "decoration": {
                "footer": "",
                "subtitle": "",
                "title": "Table"
              },
              "facets": [],
              "filterSettings": {
                "SHOW_FILTER_PANEL": true,
                "filters": []
              },
              "id": "first-view",
              "isComment": false,
              "isDefault": false,
              "isTransitory": false,
              "type": "public",
              "userID": ""
            },
            {
              "annotationRules": [],
              "chart": {
                "facets": [],
                "layerSettings": [
                  {
                    "combinationMetric": "FATALITIES",
                    "combinationMode": "MAX",
                    "fill": "#ffffff",
                    "hoverOpts": {},
                    "id": "0a3cdeb3-83f2-4511-95a1-dfe14fb3b9ed",
                    "joinDim": "LOCATION",
                    "stroke": "#000000",
                    "strokeWidth": 0,
                    "transparency": 0.9,
                    "type": "choro"
                  },
                  {
                    "aggValue": "none",
                    "color": "#000000",
                    "hoverOpts": {
                      "dims": [
                        "EVENT_DATE",
                        "SUB_EVENT_TYPE",
                        "CIVILIAN_TARGETING"
                      ],
                      "mets": [
                        "FATALITIES"
                      ]
                    },
                    "id": "a2045d07-24fe-4c50-af11-b78f768e1435",
                    "latDim": "LATITUDE",
                    "longDim": "LONGITUDE",
                    "pointSizeOpts": {
                      "max": 160,
                      "met": "FATALITIES",
                      "min": 1,
                      "mode": "functional",
                      "scale": "Linear",
                      "size": 2,
                      "sizeMax": 10,
                      "sizeMin": 1
                    },
                    "size": 2,
                    "stroke": "#000000",
                    "strokeWidth": 0.25,
                    "tileLayer": "outdoors-v11",
                    "transparency": 0.7,
                    "type": "point"
                  }
                ],
                "mapMode": "tile",
                "mapZoom": "data",
                "suggestionFields": [
                  "FATALITIES - Metric",
                  "EVENT_DATE - Dimension"
                ]
              },
              "chartMode": "tilemap",
              "confoRules": [],
              "decoration": {
                "footer": "",
                "subtitle": "",
                "title": "Table"
              },
              "facets": [],
              "filterSettings": {
                "SHOW_FILTER_PANEL": true,
                "filters": []
              },
              "id": "first-view",
              "isComment": false,
              "isDefault": false,
              "isTransitory": true,
              "type": "public",
              "userID": ""
            },
            {
              "annotationRules": [],
              "chart": {
                "facets": [],
                "layerSettings": [
                  {
                    "combinationMetric": "FATALITIES",
                    "combinationMode": "MAX",
                    "fill": "#ffffff",
                    "hoverOpts": {},
                    "id": "0a3cdeb3-83f2-4511-95a1-dfe14fb3b9ed",
                    "joinDim": "LOCATION",
                    "stroke": "#000000",
                    "strokeWidth": 0,
                    "transparency": 0.9,
                    "type": "choro"
                  },
                  {
                    "aggValue": "none",
                    "color": "#000000",
                    "hoverOpts": {
                      "dims": [
                        "EVENT_DATE",
                        "SUB_EVENT_TYPE",
                        "CIVILIAN_TARGETING"
                      ],
                      "mets": [
                        "FATALITIES"
                      ]
                    },
                    "id": "a2045d07-24fe-4c50-af11-b78f768e1435",
                    "latDim": "LATITUDE",
                    "longDim": "LONGITUDE",
                    "pointSizeOpts": {
                      "max": 160,
                      "met": "FATALITIES",
                      "min": 1,
                      "mode": "functional",
                      "scale": "Linear",
                      "size": 2,
                      "sizeMax": 10,
                      "sizeMin": 1
                    },
                    "size": 2,
                    "stroke": "#000000",
                    "strokeWidth": 0.25,
                    "tileLayer": "outdoors-v11",
                    "transparency": 0.7,
                    "type": "point"
                  }
                ],
                "mapMode": "tile",
                "mapZoom": "data",
                "suggestionFields": [
                  "FATALITIES - Metric",
                  "EVENT_DATE - Dimension"
                ]
              },
              "chartMode": "tilemap",
              "confoRules": [
                {
                  "colorOpts": {
                    "categoryPalette": null,
                    "color": "#e31a1c",
                    "colorsHash": null,
                    "cond": "=",
                    "gradient": null,
                    "max": "Explosions/Remote violence",
                    "min": "Battles",
                    "mode": "functional",
                    "scale": null,
                    "thresholdColors": null,
                    "thresholdValues": null
                  },
                  "columnType": "Dimension",
                  "fieldName": "EVENT_TYPE",
                  "id": "62ee32b0-71e0-4f25-8e16-bd1577857f49",
                  "index": -19.5,
                  "name": ""
                },
                {
                  "colorOpts": {
                    "categoryPalette": null,
                    "color": "#e46538",
                    "colorsHash": null,
                    "cond": "=",
                    "gradient": null,
                    "max": "Violence against civilians",
                    "min": "Explosions/Remote violence",
                    "mode": "functional",
                    "scale": null,
                    "thresholdColors": null,
                    "thresholdValues": null
                  },
                  "columnType": "Dimension",
                  "fieldName": "EVENT_TYPE",
                  "id": "21ac428f-9db9-4db9-a574-c6bf0114c35d",
                  "index": -18.5,
                  "name": ""
                },
                {
                  "colorOpts": {
                    "categoryPalette": null,
                    "color": "#01B0B9",
                    "colorsHash": null,
                    "cond": "=",
                    "gradient": null,
                    "max": "Violence against civilians",
                    "min": "Protests",
                    "mode": "functional",
                    "scale": null,
                    "thresholdColors": null,
                    "thresholdValues": null
                  },
                  "columnType": "Dimension",
                  "fieldName": "EVENT_TYPE",
                  "id": "f99136bf-4f1d-4531-ab4a-0b303c46523c",
                  "index": -17.5,
                  "name": ""
                },
                {
                  "colorOpts": {
                    "categoryPalette": null,
                    "color": "#d5d2e7",
                    "colorsHash": null,
                    "cond": "=",
                    "gradient": null,
                    "max": "Violence against civilians",
                    "min": "Riots",
                    "mode": "functional",
                    "scale": null,
                    "thresholdColors": null,
                    "thresholdValues": null
                  },
                  "columnType": "Dimension",
                  "fieldName": "EVENT_TYPE",
                  "id": "037545be-36a9-40a4-bd99-293cdaf78dc3",
                  "index": -16.5,
                  "name": ""
                },
                {
                  "colorOpts": {
                    "categoryPalette": null,
                    "color": "#7ace30",
                    "colorsHash": null,
                    "cond": "=",
                    "gradient": null,
                    "max": "Violence against civilians",
                    "min": "Strategic developments",
                    "mode": "functional",
                    "scale": null,
                    "thresholdColors": null,
                    "thresholdValues": null
                  },
                  "columnType": "Dimension",
                  "fieldName": "EVENT_TYPE",
                  "id": "6c50aa22-5236-4c3d-b527-936228c77171",
                  "index": -15.5,
                  "name": ""
                },
                {
                  "colorOpts": {
                    "categoryPalette": null,
                    "color": "#f4d720",
                    "colorsHash": null,
                    "cond": "=",
                    "gradient": null,
                    "max": "Violence against civilians",
                    "min": "Violence against civilians",
                    "mode": "functional",
                    "scale": null,
                    "thresholdColors": null,
                    "thresholdValues": null
                  },
                  "columnType": "Dimension",
                  "fieldName": "EVENT_TYPE",
                  "id": "59799f7d-07b7-46fa-8e8a-b0fc4e0f79e2",
                  "index": -14.5,
                  "name": ""
                }
              ],
              "decoration": {
                "footer": "",
                "subtitle": "",
                "title": "Table (copy)"
              },
              "facets": [],
              "filterSettings": {
                "SHOW_FILTER_PANEL": true,
                "filters": []
              },
              "id": "6d1f15ff-7696-4952-90f3-8a6c8bca6ace",
              "isComment": false,
              "isDefault": true,
              "isTransitory": false,
              "type": "public",
              "userID": ""
            },
            {
              "annotationRules": [],
              "chart": {
                "facets": [],
                "layerSettings": [
                  {
                    "combinationMetric": "FATALITIES",
                    "combinationMode": "MAX",
                    "fill": "#ffffff",
                    "hoverOpts": {},
                    "id": "0a3cdeb3-83f2-4511-95a1-dfe14fb3b9ed",
                    "joinDim": "LOCATION",
                    "stroke": "#000000",
                    "strokeWidth": 0,
                    "transparency": 0.9,
                    "type": "choro"
                  },
                  {
                    "aggValue": "none",
                    "color": "#000000",
                    "hoverOpts": {
                      "dims": [
                        "EVENT_DATE",
                        "SUB_EVENT_TYPE",
                        "CIVILIAN_TARGETING"
                      ],
                      "mets": [
                        "FATALITIES"
                      ]
                    },
                    "id": "a2045d07-24fe-4c50-af11-b78f768e1435",
                    "latDim": "LATITUDE",
                    "longDim": "LONGITUDE",
                    "pointSizeOpts": {
                      "max": 160,
                      "met": "FATALITIES",
                      "min": 1,
                      "mode": "functional",
                      "scale": "Linear",
                      "size": 2,
                      "sizeMax": 10,
                      "sizeMin": 1
                    },
                    "size": 2,
                    "stroke": "#000000",
                    "strokeWidth": 0.25,
                    "tileLayer": "outdoors-v11",
                    "transparency": 0.7,
                    "type": "point"
                  }
                ],
                "mapMode": "tile",
                "mapZoom": "data",
                "suggestionFields": [
                  "FATALITIES - Metric",
                  "EVENT_DATE - Dimension"
                ]
              },
              "chartMode": "tilemap",
              "confoRules": [
                {
                  "colorOpts": {
                    "categoryPalette": null,
                    "color": "#e31a1c",
                    "colorsHash": null,
                    "cond": "=",
                    "gradient": null,
                    "max": "Explosions/Remote violence",
                    "min": "Battles",
                    "mode": "functional",
                    "scale": null,
                    "thresholdColors": null,
                    "thresholdValues": null
                  },
                  "columnType": "Dimension",
                  "fieldName": "EVENT_TYPE",
                  "id": "62ee32b0-71e0-4f25-8e16-bd1577857f49",
                  "index": -19.5,
                  "name": ""
                },
                {
                  "colorOpts": {
                    "categoryPalette": null,
                    "color": "#e46538",
                    "colorsHash": null,
                    "cond": "=",
                    "gradient": null,
                    "max": "Violence against civilians",
                    "min": "Explosions/Remote violence",
                    "mode": "functional",
                    "scale": null,
                    "thresholdColors": null,
                    "thresholdValues": null
                  },
                  "columnType": "Dimension",
                  "fieldName": "EVENT_TYPE",
                  "id": "21ac428f-9db9-4db9-a574-c6bf0114c35d",
                  "index": -18.5,
                  "name": ""
                },
                {
                  "colorOpts": {
                    "categoryPalette": null,
                    "color": "#01B0B9",
                    "colorsHash": null,
                    "cond": "=",
                    "gradient": null,
                    "max": "Violence against civilians",
                    "min": "Protests",
                    "mode": "functional",
                    "scale": null,
                    "thresholdColors": null,
                    "thresholdValues": null
                  },
                  "columnType": "Dimension",
                  "fieldName": "EVENT_TYPE",
                  "id": "f99136bf-4f1d-4531-ab4a-0b303c46523c",
                  "index": -17.5,
                  "name": ""
                },
                {
                  "colorOpts": {
                    "categoryPalette": null,
                    "color": "#d5d2e7",
                    "colorsHash": null,
                    "cond": "=",
                    "gradient": null,
                    "max": "Violence against civilians",
                    "min": "Riots",
                    "mode": "functional",
                    "scale": null,
                    "thresholdColors": null,
                    "thresholdValues": null
                  },
                  "columnType": "Dimension",
                  "fieldName": "EVENT_TYPE",
                  "id": "037545be-36a9-40a4-bd99-293cdaf78dc3",
                  "index": -16.5,
                  "name": ""
                },
                {
                  "colorOpts": {
                    "categoryPalette": null,
                    "color": "#7ace30",
                    "colorsHash": null,
                    "cond": "=",
                    "gradient": null,
                    "max": "Violence against civilians",
                    "min": "Strategic developments",
                    "mode": "functional",
                    "scale": null,
                    "thresholdColors": null,
                    "thresholdValues": null
                  },
                  "columnType": "Dimension",
                  "fieldName": "EVENT_TYPE",
                  "id": "6c50aa22-5236-4c3d-b527-936228c77171",
                  "index": -15.5,
                  "name": ""
                },
                {
                  "colorOpts": {
                    "categoryPalette": null,
                    "color": "#f4d720",
                    "colorsHash": null,
                    "cond": "=",
                    "gradient": null,
                    "max": "Violence against civilians",
                    "min": "Violence against civilians",
                    "mode": "functional",
                    "scale": null,
                    "thresholdColors": null,
                    "thresholdValues": null
                  },
                  "columnType": "Dimension",
                  "fieldName": "EVENT_TYPE",
                  "id": "59799f7d-07b7-46fa-8e8a-b0fc4e0f79e2",
                  "index": -14.5,
                  "name": ""
                }
              ],
              "decoration": {
                "footer": "",
                "subtitle": "",
                "title": "Table (copy)"
              },
              "facets": [],
              "filterSettings": {
                "SHOW_FILTER_PANEL": true,
                "filters": []
              },
              "id": "6d1f15ff-7696-4952-90f3-8a6c8bca6ace",
              "isComment": false,
              "isDefault": true,
              "isTransitory": true,
              "type": "public",
              "userID": ""
            }
          ]
        }
      },
      "execution_count": null,
      "source": "burkina_df = sql_df_1\nburkina_df",
      "outputs": []
    },
    {
      "id": "441983fb-a2aa-4af6-a249-183e24cfdbf7",
      "cell_type": "code",
      "metadata": {
        "noteable": {
          "cell_type": "python",
          "output_collection_id": "893a2fa9-74fe-445b-aca3-194e904de2f5"
        },
        "ExecuteTime": {
          "end_time": "2023-05-14T17:32:24.324168+00:00",
          "start_time": "2023-05-14T17:32:23.443442+00:00"
        },
        "datalink": {
          "aca94de1-85b8-46f9-8ad5-5aa3914177ed": {
            "applied_filters": [],
            "dataframe_info": {
              "default_index_used": true,
              "orig_num_cols": 17,
              "orig_num_rows": 8212,
              "orig_size_bytes": 1116960,
              "truncated_num_cols": 17,
              "truncated_num_rows": 8212,
              "truncated_size_bytes": 1116960,
              "truncated_string_columns": [
                "ASSOC_ACTOR_1",
                "NOTES"
              ]
            },
            "display_id": "aca94de1-85b8-46f9-8ad5-5aa3914177ed",
            "dx_settings": {
              "ALLOW_NOTEABLE_ATTRS": true,
              "COLUMN_SAMPLING_METHOD": "outer",
              "DB_LOCATION": ":memory:",
              "DEV_MODE": false,
              "DISPLAY_MAX_COLUMNS": 100,
              "DISPLAY_MAX_ROWS": 50000,
              "DISPLAY_MODE": "simple",
              "ENABLE_ASSIGNMENT": true,
              "ENABLE_DATALINK": true,
              "FLATTEN_COLUMN_VALUES": true,
              "FLATTEN_INDEX_VALUES": false,
              "GENERATE_DEX_METADATA": false,
              "HTML_TABLE_SCHEMA": false,
              "LOG_LEVEL": 30,
              "MAX_RENDER_SIZE_BYTES": 104857600,
              "MAX_STRING_LENGTH": 250,
              "NUM_PAST_SAMPLES_TRACKED": 3,
              "RANDOM_STATE": 12648430,
              "RESET_INDEX_VALUES": false,
              "ROW_SAMPLING_METHOD": "random",
              "SAMPLING_FACTOR": 0.1,
              "SAMPLING_METHOD": "random",
              "STRINGIFY_COLUMN_VALUES": true,
              "STRINGIFY_INDEX_VALUES": false
            },
            "sample_history": [],
            "sampling_time": "2023-05-14T17:32:24.025841",
            "user_variable_name": "burkina_df",
            "variable_name": "burkina_df"
          }
        },
        "dx": {
          "dashboard": {
            "multiViews": []
          },
          "fieldMetadata": {},
          "updated": 1684085800604,
          "views": [
            {
              "annotationRules": [],
              "chart": {},
              "chartMode": "grid",
              "confoRules": [],
              "decoration": {
                "footer": "",
                "subtitle": "",
                "title": "Table"
              },
              "facets": [],
              "filterSettings": {
                "SHOW_FILTER_PANEL": true,
                "filters": []
              },
              "id": "first-view",
              "isDefault": true,
              "type": "public",
              "userID": ""
            },
            {
              "annotationRules": [],
              "chart": {
                "barProjection": "horizontal",
                "facets": [],
                "lineType": "line",
                "metric1": "FATALITIES",
                "metric2": "index",
                "selectedMetrics": [],
                "suggestionFields": [
                  "EVENT_DATE - Dimension"
                ],
                "timeseriesSort": "index",
                "trendLine": "linear"
              },
              "chartMode": "scatter",
              "confoRules": [],
              "decoration": {
                "footer": "",
                "subtitle": "",
                "title": "Table"
              },
              "facets": [],
              "filterSettings": {
                "SHOW_FILTER_PANEL": true,
                "filters": []
              },
              "id": "first-view",
              "isDefault": true,
              "isTransitory": true,
              "type": "public",
              "userID": ""
            }
          ]
        }
      },
      "execution_count": null,
      "source": "burkina_df",
      "outputs": []
    },
    {
      "id": "1089846a-6034-490b-b3cf-d1930faa7686",
      "cell_type": "code",
      "metadata": {
        "jupyter": {
          "outputs_hidden": false,
          "source_hidden": false
        },
        "noteable": {
          "cell_type": "code"
        }
      },
      "execution_count": null,
      "source": "",
      "outputs": []
    }
  ]
}