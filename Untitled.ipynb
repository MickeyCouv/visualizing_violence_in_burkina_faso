{
  "nbformat": 4,
  "nbformat_minor": 5,
  "metadata": {
    "noteable": {
      "last_transaction_id": "146d67d4-f286-4c08-a3ad-d6031a3456d0",
      "db_connection": "@noteable"
    },
    "selected_hardware_size": "small"
  },
  "cells": [
    {
      "id": "5f0bd683-504e-47a5-a734-50ee90f33eed",
      "cell_type": "code",
      "metadata": {
        "jupyter": {
          "outputs_hidden": false,
          "source_hidden": false
        },
        "noteable": {
          "cell_type": "code",
          "output_collection_id": "2674ff5e-c587-4784-959b-3a7ca2dfc972"
        },
        "datalink": {
          "4999e8fc-0985-482f-91c2-042a1af516af": {
            "applied_filters": [],
            "dataframe_info": {
              "default_index_used": true,
              "orig_num_cols": 17,
              "orig_num_rows": 8527,
              "orig_size_bytes": 1159800,
              "truncated_num_cols": 18,
              "truncated_num_rows": 8527,
              "truncated_size_bytes": 1228016
            },
            "display_id": "4999e8fc-0985-482f-91c2-042a1af516af",
            "dx_settings": {
              "ALLOW_NOTEABLE_ATTRS": true,
              "COLUMN_SAMPLING_METHOD": "outer",
              "DB_LOCATION": ":memory:",
              "DEV_MODE": false,
              "DISPLAY_MAX_COLUMNS": 50,
              "DISPLAY_MAX_ROWS": 50000,
              "DISPLAY_MODE": "simple",
              "ENABLE_ASSIGNMENT": true,
              "ENABLE_DATALINK": false,
              "ENABLE_RENAMER": true,
              "FLATTEN_COLUMN_VALUES": true,
              "FLATTEN_INDEX_VALUES": false,
              "GENERATE_DEX_METADATA": false,
              "HTML_TABLE_SCHEMA": false,
              "LOG_LEVEL": 30,
              "MAX_RENDER_SIZE_BYTES": 104857600,
              "NUM_PAST_SAMPLES_TRACKED": 3,
              "RANDOM_STATE": 12648430,
              "RESET_INDEX_VALUES": false,
              "ROW_SAMPLING_METHOD": "random",
              "SAMPLING_FACTOR": 0.1,
              "SAMPLING_METHOD": "random",
              "STRINGIFY_COLUMN_VALUES": true,
              "STRINGIFY_INDEX_VALUES": false
            },
            "sample_history": [],
            "sampling_time": "2023-05-14T15:37:16.309809",
            "user_variable_name": "pd.read_csv('burkina_df.csv')",
            "variable_name": "CSV_TO_GRID_DF"
          },
          "16a1a174-a44c-4c0c-b922-e17e4a635df5": {
            "applied_filters": [],
            "dataframe_info": {
              "default_index_used": true,
              "orig_num_cols": 17,
              "orig_num_rows": 5,
              "orig_size_bytes": 808,
              "truncated_num_cols": 17,
              "truncated_num_rows": 5,
              "truncated_size_bytes": 808,
              "truncated_string_columns": []
            },
            "display_id": "16a1a174-a44c-4c0c-b922-e17e4a635df5",
            "dx_settings": {
              "ALLOW_NOTEABLE_ATTRS": true,
              "COLUMN_SAMPLING_METHOD": "outer",
              "DB_LOCATION": ":memory:",
              "DEV_MODE": false,
              "DISPLAY_MAX_COLUMNS": 100,
              "DISPLAY_MAX_ROWS": 50000,
              "DISPLAY_MODE": "simple",
              "ENABLE_ASSIGNMENT": true,
              "ENABLE_DATALINK": true,
              "FLATTEN_COLUMN_VALUES": true,
              "FLATTEN_INDEX_VALUES": false,
              "GENERATE_DEX_METADATA": false,
              "HTML_TABLE_SCHEMA": false,
              "LOG_LEVEL": 30,
              "MAX_RENDER_SIZE_BYTES": 104857600,
              "MAX_STRING_LENGTH": 250,
              "NUM_PAST_SAMPLES_TRACKED": 3,
              "RANDOM_STATE": 12648430,
              "RESET_INDEX_VALUES": false,
              "ROW_SAMPLING_METHOD": "random",
              "SAMPLING_FACTOR": 0.1,
              "SAMPLING_METHOD": "random",
              "STRINGIFY_COLUMN_VALUES": true,
              "STRINGIFY_INDEX_VALUES": false
            },
            "sample_history": [],
            "sampling_time": "2023-05-14T15:43:20.262158",
            "user_variable_name": null,
            "variable_name": "unk_dataframe_80388d57925443c19b0d838d7086b11f"
          },
          "74e5c534-85d7-4925-86df-15dee526b9c7": {
            "applied_filters": [],
            "dataframe_info": {
              "default_index_used": true,
              "orig_num_cols": 18,
              "orig_num_rows": 5,
              "orig_size_bytes": 848,
              "truncated_num_cols": 18,
              "truncated_num_rows": 5,
              "truncated_size_bytes": 848,
              "truncated_string_columns": []
            },
            "display_id": "74e5c534-85d7-4925-86df-15dee526b9c7",
            "dx_settings": {
              "ALLOW_NOTEABLE_ATTRS": true,
              "COLUMN_SAMPLING_METHOD": "outer",
              "DB_LOCATION": ":memory:",
              "DEV_MODE": false,
              "DISPLAY_MAX_COLUMNS": 100,
              "DISPLAY_MAX_ROWS": 50000,
              "DISPLAY_MODE": "simple",
              "ENABLE_ASSIGNMENT": true,
              "ENABLE_DATALINK": true,
              "FLATTEN_COLUMN_VALUES": true,
              "FLATTEN_INDEX_VALUES": false,
              "GENERATE_DEX_METADATA": false,
              "HTML_TABLE_SCHEMA": false,
              "LOG_LEVEL": 30,
              "MAX_RENDER_SIZE_BYTES": 104857600,
              "MAX_STRING_LENGTH": 250,
              "NUM_PAST_SAMPLES_TRACKED": 3,
              "RANDOM_STATE": 12648430,
              "RESET_INDEX_VALUES": false,
              "ROW_SAMPLING_METHOD": "random",
              "SAMPLING_FACTOR": 0.1,
              "SAMPLING_METHOD": "random",
              "STRINGIFY_COLUMN_VALUES": true,
              "STRINGIFY_INDEX_VALUES": false
            },
            "sample_history": [],
            "sampling_time": "2023-05-14T15:48:43.240796",
            "user_variable_name": null,
            "variable_name": "unk_dataframe_0aa8fb9180cd41ddba507feac29a37d4"
          },
          "cd996ece-52a6-4d2b-9b7e-ca830d10510a": {
            "applied_filters": [],
            "dataframe_info": {
              "default_index_used": false,
              "orig_num_cols": 16,
              "orig_num_rows": 8527,
              "orig_size_bytes": 1159672,
              "truncated_num_cols": 16,
              "truncated_num_rows": 8527,
              "truncated_size_bytes": 1159672,
              "truncated_string_columns": [
                "ASSOC_ACTOR_1",
                "NOTES"
              ]
            },
            "display_id": "cd996ece-52a6-4d2b-9b7e-ca830d10510a",
            "dx_settings": {
              "ALLOW_NOTEABLE_ATTRS": true,
              "COLUMN_SAMPLING_METHOD": "outer",
              "DB_LOCATION": ":memory:",
              "DEV_MODE": false,
              "DISPLAY_MAX_COLUMNS": 100,
              "DISPLAY_MAX_ROWS": 50000,
              "DISPLAY_MODE": "simple",
              "ENABLE_ASSIGNMENT": true,
              "ENABLE_DATALINK": true,
              "FLATTEN_COLUMN_VALUES": true,
              "FLATTEN_INDEX_VALUES": false,
              "GENERATE_DEX_METADATA": false,
              "HTML_TABLE_SCHEMA": false,
              "LOG_LEVEL": 30,
              "MAX_RENDER_SIZE_BYTES": 104857600,
              "MAX_STRING_LENGTH": 250,
              "NUM_PAST_SAMPLES_TRACKED": 3,
              "RANDOM_STATE": 12648430,
              "RESET_INDEX_VALUES": false,
              "ROW_SAMPLING_METHOD": "random",
              "SAMPLING_FACTOR": 0.1,
              "SAMPLING_METHOD": "random",
              "STRINGIFY_COLUMN_VALUES": true,
              "STRINGIFY_INDEX_VALUES": false
            },
            "sample_history": [],
            "sampling_time": "2023-05-14T15:51:15.494152",
            "user_variable_name": "burkina_df",
            "variable_name": "burkina_df"
          },
          "81b25d86-3467-452c-a20b-1936ef5571e0": {
            "applied_filters": [],
            "dataframe_info": {
              "default_index_used": true,
              "orig_num_cols": 17,
              "orig_num_rows": 8527,
              "orig_size_bytes": 1159800,
              "truncated_num_cols": 17,
              "truncated_num_rows": 8527,
              "truncated_size_bytes": 1159800,
              "truncated_string_columns": [
                "ASSOC_ACTOR_1",
                "NOTES"
              ]
            },
            "display_id": "81b25d86-3467-452c-a20b-1936ef5571e0",
            "dx_settings": {
              "ALLOW_NOTEABLE_ATTRS": true,
              "COLUMN_SAMPLING_METHOD": "outer",
              "DB_LOCATION": ":memory:",
              "DEV_MODE": false,
              "DISPLAY_MAX_COLUMNS": 100,
              "DISPLAY_MAX_ROWS": 50000,
              "DISPLAY_MODE": "simple",
              "ENABLE_ASSIGNMENT": true,
              "ENABLE_DATALINK": true,
              "FLATTEN_COLUMN_VALUES": true,
              "FLATTEN_INDEX_VALUES": false,
              "GENERATE_DEX_METADATA": false,
              "HTML_TABLE_SCHEMA": false,
              "LOG_LEVEL": 30,
              "MAX_RENDER_SIZE_BYTES": 104857600,
              "MAX_STRING_LENGTH": 250,
              "NUM_PAST_SAMPLES_TRACKED": 3,
              "RANDOM_STATE": 12648430,
              "RESET_INDEX_VALUES": false,
              "ROW_SAMPLING_METHOD": "random",
              "SAMPLING_FACTOR": 0.1,
              "SAMPLING_METHOD": "random",
              "STRINGIFY_COLUMN_VALUES": true,
              "STRINGIFY_INDEX_VALUES": false
            },
            "sample_history": [],
            "sampling_time": "2023-05-14T16:05:59.545603",
            "user_variable_name": "burkina_df",
            "variable_name": "burkina_df"
          }
        },
        "dx": {
          "fieldMetadata": {},
          "simpleTable": true,
          "updated": 1684078869887,
          "views": []
        },
        "ExecuteTime": {
          "end_time": "2023-05-14T16:05:59.833758+00:00",
          "start_time": "2023-05-14T16:05:59.010680+00:00"
        }
      },
      "execution_count": null,
      "source": "burkina_df = pd.read_csv('burkina_df.csv')\nburkina_df.set_index('EVENT_DATE', inplace=True)\nburkina_df.reset_index(inplace=True)\nburkina_df",
      "outputs": []
    },
    {
      "id": "0f27c8868b9f470e867cc37dbdf61190",
      "cell_type": "code",
      "metadata": {
        "noteable": {
          "assign_results_to": "sql_df_1",
          "cell_type": "sql",
          "db_connection": "@noteable",
          "output_collection_id": "2db7ff42-8f02-4a1c-8699-4f558ba97d3a"
        },
        "ExecuteTime": {
          "end_time": "2023-05-14T16:09:33.479325+00:00",
          "start_time": "2023-05-14T16:09:32.588995+00:00"
        },
        "datalink": {
          "ac48825e-bef8-43d9-9ec2-ea2e393dc64a": {
            "applied_filters": [],
            "dataframe_info": {
              "default_index_used": true,
              "orig_num_cols": 16,
              "orig_num_rows": 8527,
              "orig_size_bytes": 1091584,
              "truncated_num_cols": 16,
              "truncated_num_rows": 8527,
              "truncated_size_bytes": 1091584,
              "truncated_string_columns": [
                "ASSOC_ACTOR_1",
                "NOTES"
              ]
            },
            "display_id": "ac48825e-bef8-43d9-9ec2-ea2e393dc64a",
            "dx_settings": {
              "ALLOW_NOTEABLE_ATTRS": true,
              "COLUMN_SAMPLING_METHOD": "outer",
              "DB_LOCATION": ":memory:",
              "DEV_MODE": false,
              "DISPLAY_MAX_COLUMNS": 100,
              "DISPLAY_MAX_ROWS": 50000,
              "DISPLAY_MODE": "simple",
              "ENABLE_ASSIGNMENT": true,
              "ENABLE_DATALINK": true,
              "FLATTEN_COLUMN_VALUES": true,
              "FLATTEN_INDEX_VALUES": false,
              "GENERATE_DEX_METADATA": false,
              "HTML_TABLE_SCHEMA": false,
              "LOG_LEVEL": 30,
              "MAX_RENDER_SIZE_BYTES": 104857600,
              "MAX_STRING_LENGTH": 250,
              "NUM_PAST_SAMPLES_TRACKED": 3,
              "RANDOM_STATE": 12648430,
              "RESET_INDEX_VALUES": false,
              "ROW_SAMPLING_METHOD": "random",
              "SAMPLING_FACTOR": 0.1,
              "SAMPLING_METHOD": "random",
              "STRINGIFY_COLUMN_VALUES": true,
              "STRINGIFY_INDEX_VALUES": false
            },
            "sample_history": [],
            "sampling_time": "2023-05-14T16:00:35.826222",
            "user_variable_name": "sql_df_1",
            "variable_name": "sql_df_1"
          },
          "9f3762f6-e14a-4488-8cec-7d1ec067e387": {
            "applied_filters": [],
            "dataframe_info": {
              "default_index_used": true,
              "orig_num_cols": 17,
              "orig_num_rows": 8212,
              "orig_size_bytes": 1116960,
              "truncated_num_cols": 17,
              "truncated_num_rows": 8212,
              "truncated_size_bytes": 1116960,
              "truncated_string_columns": [
                "ASSOC_ACTOR_1",
                "NOTES"
              ]
            },
            "display_id": "9f3762f6-e14a-4488-8cec-7d1ec067e387",
            "dx_settings": {
              "ALLOW_NOTEABLE_ATTRS": true,
              "COLUMN_SAMPLING_METHOD": "outer",
              "DB_LOCATION": ":memory:",
              "DEV_MODE": false,
              "DISPLAY_MAX_COLUMNS": 100,
              "DISPLAY_MAX_ROWS": 50000,
              "DISPLAY_MODE": "simple",
              "ENABLE_ASSIGNMENT": true,
              "ENABLE_DATALINK": true,
              "FLATTEN_COLUMN_VALUES": true,
              "FLATTEN_INDEX_VALUES": false,
              "GENERATE_DEX_METADATA": false,
              "HTML_TABLE_SCHEMA": false,
              "LOG_LEVEL": 30,
              "MAX_RENDER_SIZE_BYTES": 104857600,
              "MAX_STRING_LENGTH": 250,
              "NUM_PAST_SAMPLES_TRACKED": 3,
              "RANDOM_STATE": 12648430,
              "RESET_INDEX_VALUES": false,
              "ROW_SAMPLING_METHOD": "random",
              "SAMPLING_FACTOR": 0.1,
              "SAMPLING_METHOD": "random",
              "STRINGIFY_COLUMN_VALUES": true,
              "STRINGIFY_INDEX_VALUES": false
            },
            "sample_history": [],
            "sampling_time": "2023-05-14T16:09:33.176228",
            "user_variable_name": "sql_df_1",
            "variable_name": "sql_df_1"
          }
        }
      },
      "execution_count": null,
      "source": "SELECT *\nFROM burkina_df\nWHERE EVENT_DATE BETWEEN '2013-01-01' AND (SELECT MAX(EVENT_DATE) FROM burkina_df);",
      "outputs": []
    },
    {
      "id": "94a917f4-d92a-4de0-b99c-d24ce84db66f",
      "cell_type": "code",
      "metadata": {
        "jupyter": {
          "outputs_hidden": false,
          "source_hidden": false
        },
        "noteable": {
          "cell_type": "code",
          "output_collection_id": "1fbd73d2-ad1f-4ba8-abf0-8435a5c037bd"
        },
        "ExecuteTime": {
          "end_time": "2023-05-14T16:10:43.440863+00:00",
          "start_time": "2023-05-14T16:10:43.198022+00:00"
        },
        "datalink": {
          "0fbf4e45-73a5-44e0-aca0-ce581e102c13": {
            "applied_filters": [],
            "dataframe_info": {
              "default_index_used": true,
              "orig_num_cols": 17,
              "orig_num_rows": 5,
              "orig_size_bytes": 808,
              "truncated_num_cols": 17,
              "truncated_num_rows": 5,
              "truncated_size_bytes": 808,
              "truncated_string_columns": [
                "NOTES"
              ]
            },
            "display_id": "0fbf4e45-73a5-44e0-aca0-ce581e102c13",
            "dx_settings": {
              "ALLOW_NOTEABLE_ATTRS": true,
              "COLUMN_SAMPLING_METHOD": "outer",
              "DB_LOCATION": ":memory:",
              "DEV_MODE": false,
              "DISPLAY_MAX_COLUMNS": 100,
              "DISPLAY_MAX_ROWS": 50000,
              "DISPLAY_MODE": "simple",
              "ENABLE_ASSIGNMENT": true,
              "ENABLE_DATALINK": true,
              "FLATTEN_COLUMN_VALUES": true,
              "FLATTEN_INDEX_VALUES": false,
              "GENERATE_DEX_METADATA": false,
              "HTML_TABLE_SCHEMA": false,
              "LOG_LEVEL": 30,
              "MAX_RENDER_SIZE_BYTES": 104857600,
              "MAX_STRING_LENGTH": 250,
              "NUM_PAST_SAMPLES_TRACKED": 3,
              "RANDOM_STATE": 12648430,
              "RESET_INDEX_VALUES": false,
              "ROW_SAMPLING_METHOD": "random",
              "SAMPLING_FACTOR": 0.1,
              "SAMPLING_METHOD": "random",
              "STRINGIFY_COLUMN_VALUES": true,
              "STRINGIFY_INDEX_VALUES": false
            },
            "sample_history": [],
            "sampling_time": "2023-05-14T16:10:43.281244",
            "user_variable_name": null,
            "variable_name": "unk_dataframe_b2e00494c52049d2af0e27a0dc5162f4"
          }
        }
      },
      "execution_count": null,
      "source": "sql_df_1.head()",
      "outputs": []
    },
    {
      "id": "c8d82456-f48c-429e-ae0c-32f861ce6825",
      "cell_type": "code",
      "metadata": {
        "jupyter": {
          "outputs_hidden": false,
          "source_hidden": false
        },
        "noteable": {
          "cell_type": "code",
          "output_collection_id": "c3203859-f8dd-4cb6-8adc-0adbbb515793"
        },
        "ExecuteTime": {
          "end_time": "2023-05-14T16:12:15.296603+00:00",
          "start_time": "2023-05-14T16:12:15.116488+00:00"
        }
      },
      "execution_count": null,
      "source": "sql_df_1.info()",
      "outputs": []
    },
    {
      "id": "b2baaee8-05b3-4b0d-82fe-68b2df9fbc99",
      "cell_type": "code",
      "metadata": {
        "jupyter": {
          "outputs_hidden": false,
          "source_hidden": false
        },
        "noteable": {
          "cell_type": "code",
          "output_collection_id": "c213c2e0-9f15-4703-82e7-fce1ff6ff83d"
        },
        "ExecuteTime": {
          "end_time": "2023-05-14T16:25:32.603173+00:00",
          "start_time": "2023-05-14T16:25:31.812809+00:00"
        },
        "datalink": {
          "d768f467-f2e8-4d4c-bc96-cdfae27c9054": {
            "applied_filters": [],
            "dataframe_info": {
              "default_index_used": true,
              "orig_num_cols": 17,
              "orig_num_rows": 8212,
              "orig_size_bytes": 1116960,
              "truncated_num_cols": 17,
              "truncated_num_rows": 8212,
              "truncated_size_bytes": 1116960,
              "truncated_string_columns": [
                "ASSOC_ACTOR_1",
                "NOTES"
              ]
            },
            "display_id": "d768f467-f2e8-4d4c-bc96-cdfae27c9054",
            "dx_settings": {
              "ALLOW_NOTEABLE_ATTRS": true,
              "COLUMN_SAMPLING_METHOD": "outer",
              "DB_LOCATION": ":memory:",
              "DEV_MODE": false,
              "DISPLAY_MAX_COLUMNS": 100,
              "DISPLAY_MAX_ROWS": 50000,
              "DISPLAY_MODE": "simple",
              "ENABLE_ASSIGNMENT": true,
              "ENABLE_DATALINK": true,
              "FLATTEN_COLUMN_VALUES": true,
              "FLATTEN_INDEX_VALUES": false,
              "GENERATE_DEX_METADATA": false,
              "HTML_TABLE_SCHEMA": false,
              "LOG_LEVEL": 30,
              "MAX_RENDER_SIZE_BYTES": 104857600,
              "MAX_STRING_LENGTH": 250,
              "NUM_PAST_SAMPLES_TRACKED": 3,
              "RANDOM_STATE": 12648430,
              "RESET_INDEX_VALUES": false,
              "ROW_SAMPLING_METHOD": "random",
              "SAMPLING_FACTOR": 0.1,
              "SAMPLING_METHOD": "random",
              "STRINGIFY_COLUMN_VALUES": true,
              "STRINGIFY_INDEX_VALUES": false
            },
            "sample_history": [],
            "sampling_time": "2023-05-14T16:25:32.328952",
            "user_variable_name": "burkina_df",
            "variable_name": "burkina_df"
          }
        },
        "dx": {
          "dashboard": {
            "multiViews": []
          },
          "fieldMetadata": {},
          "updated": 1684082422948,
          "views": [
            {
              "annotationRules": [],
              "chart": {
                "facets": [],
                "layerSettings": [
                  {
                    "combinationMetric": "FATALITIES",
                    "combinationMode": "MAX",
                    "fill": "#ffffff",
                    "hoverOpts": {},
                    "id": "0a3cdeb3-83f2-4511-95a1-dfe14fb3b9ed",
                    "joinDim": "LOCATION",
                    "stroke": "#000000",
                    "strokeWidth": 0,
                    "transparency": 0.9,
                    "type": "choro"
                  },
                  {
                    "aggValue": "none",
                    "color": "#000000",
                    "hoverOpts": {
                      "dims": [
                        "EVENT_DATE",
                        "SUB_EVENT_TYPE",
                        "CIVILIAN_TARGETING"
                      ],
                      "mets": [
                        "FATALITIES"
                      ]
                    },
                    "id": "a2045d07-24fe-4c50-af11-b78f768e1435",
                    "latDim": "LATITUDE",
                    "longDim": "LONGITUDE",
                    "pointSizeOpts": {
                      "max": 160,
                      "met": "FATALITIES",
                      "min": 1,
                      "mode": "functional",
                      "scale": "Linear",
                      "size": 2,
                      "sizeMax": 10,
                      "sizeMin": 1
                    },
                    "size": 2,
                    "stroke": "#000000",
                    "strokeWidth": 0.25,
                    "tileLayer": "outdoors-v11",
                    "transparency": 0.7,
                    "type": "point"
                  }
                ],
                "mapMode": "tile",
                "mapZoom": "data",
                "suggestionFields": [
                  "FATALITIES - Metric",
                  "EVENT_DATE - Dimension"
                ]
              },
              "chartMode": "tilemap",
              "confoRules": [],
              "decoration": {
                "footer": "",
                "subtitle": "",
                "title": "Table"
              },
              "facets": [],
              "filterSettings": {
                "SHOW_FILTER_PANEL": true,
                "filters": []
              },
              "id": "first-view",
              "isComment": false,
              "isDefault": true,
              "isTransitory": false,
              "type": "public",
              "userID": ""
            },
            {
              "annotationRules": [],
              "chart": {
                "facets": [],
                "layerSettings": [
                  {
                    "combinationMetric": "FATALITIES",
                    "combinationMode": "MAX",
                    "fill": "#ffffff",
                    "hoverOpts": {},
                    "id": "0a3cdeb3-83f2-4511-95a1-dfe14fb3b9ed",
                    "joinDim": "LOCATION",
                    "stroke": "#000000",
                    "strokeWidth": 0,
                    "transparency": 0.9,
                    "type": "choro"
                  },
                  {
                    "aggValue": "none",
                    "color": "#000000",
                    "hoverOpts": {
                      "dims": [
                        "EVENT_DATE",
                        "SUB_EVENT_TYPE",
                        "CIVILIAN_TARGETING"
                      ],
                      "mets": [
                        "FATALITIES"
                      ]
                    },
                    "id": "a2045d07-24fe-4c50-af11-b78f768e1435",
                    "latDim": "LATITUDE",
                    "longDim": "LONGITUDE",
                    "pointSizeOpts": {
                      "max": 160,
                      "met": "FATALITIES",
                      "min": 1,
                      "mode": "functional",
                      "scale": "Linear",
                      "size": 2,
                      "sizeMax": 10,
                      "sizeMin": 1
                    },
                    "size": 2,
                    "stroke": "#000000",
                    "strokeWidth": 0.25,
                    "tileLayer": "outdoors-v11",
                    "transparency": 0.7,
                    "type": "point"
                  }
                ],
                "mapMode": "tile",
                "mapZoom": "data",
                "suggestionFields": [
                  "FATALITIES - Metric",
                  "EVENT_DATE - Dimension"
                ]
              },
              "chartMode": "tilemap",
              "confoRules": [],
              "decoration": {
                "footer": "",
                "subtitle": "",
                "title": "Table"
              },
              "facets": [],
              "filterSettings": {
                "SHOW_FILTER_PANEL": true,
                "filters": []
              },
              "id": "first-view",
              "isComment": false,
              "isDefault": true,
              "isTransitory": true,
              "type": "public",
              "userID": ""
            }
          ]
        }
      },
      "execution_count": null,
      "source": "burkina_df = sql_df_1\nburkina_df",
      "outputs": []
    },
    {
      "id": "441983fb-a2aa-4af6-a249-183e24cfdbf7",
      "cell_type": "code",
      "metadata": {
        "jupyter": {
          "outputs_hidden": false,
          "source_hidden": false
        },
        "noteable": {
          "cell_type": "code"
        }
      },
      "execution_count": null,
      "source": "",
      "outputs": []
    }
  ]
}