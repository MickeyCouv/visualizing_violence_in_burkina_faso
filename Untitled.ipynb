{
  "nbformat": 4,
  "nbformat_minor": 5,
  "metadata": {
    "noteable": {
      "last_transaction_id": "b0f7ac5a-e486-4228-899b-9065492de6c9",
      "db_connection": "@noteable"
    }
  },
  "cells": [
    {
      "id": "5f0bd683-504e-47a5-a734-50ee90f33eed",
      "cell_type": "code",
      "metadata": {
        "jupyter": {
          "outputs_hidden": false,
          "source_hidden": false
        },
        "noteable": {
          "cell_type": "code",
          "output_collection_id": "f071e509-244b-4c8c-907b-911c21fafb36"
        },
        "datalink": {
          "4999e8fc-0985-482f-91c2-042a1af516af": {
            "applied_filters": [],
            "dataframe_info": {
              "default_index_used": true,
              "orig_num_cols": 17,
              "orig_num_rows": 8527,
              "orig_size_bytes": 1159800,
              "truncated_num_cols": 18,
              "truncated_num_rows": 8527,
              "truncated_size_bytes": 1228016
            },
            "display_id": "4999e8fc-0985-482f-91c2-042a1af516af",
            "dx_settings": {
              "ALLOW_NOTEABLE_ATTRS": true,
              "COLUMN_SAMPLING_METHOD": "outer",
              "DB_LOCATION": ":memory:",
              "DEV_MODE": false,
              "DISPLAY_MAX_COLUMNS": 50,
              "DISPLAY_MAX_ROWS": 50000,
              "DISPLAY_MODE": "simple",
              "ENABLE_ASSIGNMENT": true,
              "ENABLE_DATALINK": false,
              "ENABLE_RENAMER": true,
              "FLATTEN_COLUMN_VALUES": true,
              "FLATTEN_INDEX_VALUES": false,
              "GENERATE_DEX_METADATA": false,
              "HTML_TABLE_SCHEMA": false,
              "LOG_LEVEL": 30,
              "MAX_RENDER_SIZE_BYTES": 104857600,
              "NUM_PAST_SAMPLES_TRACKED": 3,
              "RANDOM_STATE": 12648430,
              "RESET_INDEX_VALUES": false,
              "ROW_SAMPLING_METHOD": "random",
              "SAMPLING_FACTOR": 0.1,
              "SAMPLING_METHOD": "random",
              "STRINGIFY_COLUMN_VALUES": true,
              "STRINGIFY_INDEX_VALUES": false
            },
            "sample_history": [],
            "sampling_time": "2023-05-14T15:37:16.309809",
            "user_variable_name": "pd.read_csv('burkina_df.csv')",
            "variable_name": "CSV_TO_GRID_DF"
          }
        },
        "dx": {
          "fieldMetadata": {},
          "simpleTable": true,
          "updated": 1684078869887,
          "views": []
        }
      },
      "execution_count": null,
      "source": "pd.read_csv('burkina_df.csv')",
      "outputs": []
    },
    {
      "id": "0f27c8868b9f470e867cc37dbdf61190",
      "cell_type": "code",
      "metadata": {
        "noteable": {
          "assign_results_to": "sql_df_1",
          "cell_type": "sql",
          "db_connection": "@noteable"
        }
      },
      "execution_count": null,
      "source": "SELECT * FROM ",
      "outputs": []
    }
  ]
}