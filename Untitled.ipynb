{
  "nbformat": 4,
  "nbformat_minor": 5,
  "metadata": {
    "noteable": {
      "last_transaction_id": "b38c42a1-0e15-4ad5-96e7-db8971fb91e3",
      "db_connection": "@noteable"
    },
    "selected_hardware_size": "small"
  },
  "cells": [
    {
      "id": "5f0bd683-504e-47a5-a734-50ee90f33eed",
      "cell_type": "code",
      "metadata": {
        "jupyter": {
          "outputs_hidden": false,
          "source_hidden": false
        },
        "noteable": {
          "cell_type": "code",
          "output_collection_id": "607bdf4c-7a53-498e-b219-6f42d38e1499"
        },
        "datalink": {
          "4999e8fc-0985-482f-91c2-042a1af516af": {
            "applied_filters": [],
            "dataframe_info": {
              "default_index_used": true,
              "orig_num_cols": 17,
              "orig_num_rows": 8527,
              "orig_size_bytes": 1159800,
              "truncated_num_cols": 18,
              "truncated_num_rows": 8527,
              "truncated_size_bytes": 1228016
            },
            "display_id": "4999e8fc-0985-482f-91c2-042a1af516af",
            "dx_settings": {
              "ALLOW_NOTEABLE_ATTRS": true,
              "COLUMN_SAMPLING_METHOD": "outer",
              "DB_LOCATION": ":memory:",
              "DEV_MODE": false,
              "DISPLAY_MAX_COLUMNS": 50,
              "DISPLAY_MAX_ROWS": 50000,
              "DISPLAY_MODE": "simple",
              "ENABLE_ASSIGNMENT": true,
              "ENABLE_DATALINK": false,
              "ENABLE_RENAMER": true,
              "FLATTEN_COLUMN_VALUES": true,
              "FLATTEN_INDEX_VALUES": false,
              "GENERATE_DEX_METADATA": false,
              "HTML_TABLE_SCHEMA": false,
              "LOG_LEVEL": 30,
              "MAX_RENDER_SIZE_BYTES": 104857600,
              "NUM_PAST_SAMPLES_TRACKED": 3,
              "RANDOM_STATE": 12648430,
              "RESET_INDEX_VALUES": false,
              "ROW_SAMPLING_METHOD": "random",
              "SAMPLING_FACTOR": 0.1,
              "SAMPLING_METHOD": "random",
              "STRINGIFY_COLUMN_VALUES": true,
              "STRINGIFY_INDEX_VALUES": false
            },
            "sample_history": [],
            "sampling_time": "2023-05-14T15:37:16.309809",
            "user_variable_name": "pd.read_csv('burkina_df.csv')",
            "variable_name": "CSV_TO_GRID_DF"
          },
          "16a1a174-a44c-4c0c-b922-e17e4a635df5": {
            "applied_filters": [],
            "dataframe_info": {
              "default_index_used": true,
              "orig_num_cols": 17,
              "orig_num_rows": 5,
              "orig_size_bytes": 808,
              "truncated_num_cols": 17,
              "truncated_num_rows": 5,
              "truncated_size_bytes": 808,
              "truncated_string_columns": []
            },
            "display_id": "16a1a174-a44c-4c0c-b922-e17e4a635df5",
            "dx_settings": {
              "ALLOW_NOTEABLE_ATTRS": true,
              "COLUMN_SAMPLING_METHOD": "outer",
              "DB_LOCATION": ":memory:",
              "DEV_MODE": false,
              "DISPLAY_MAX_COLUMNS": 100,
              "DISPLAY_MAX_ROWS": 50000,
              "DISPLAY_MODE": "simple",
              "ENABLE_ASSIGNMENT": true,
              "ENABLE_DATALINK": true,
              "FLATTEN_COLUMN_VALUES": true,
              "FLATTEN_INDEX_VALUES": false,
              "GENERATE_DEX_METADATA": false,
              "HTML_TABLE_SCHEMA": false,
              "LOG_LEVEL": 30,
              "MAX_RENDER_SIZE_BYTES": 104857600,
              "MAX_STRING_LENGTH": 250,
              "NUM_PAST_SAMPLES_TRACKED": 3,
              "RANDOM_STATE": 12648430,
              "RESET_INDEX_VALUES": false,
              "ROW_SAMPLING_METHOD": "random",
              "SAMPLING_FACTOR": 0.1,
              "SAMPLING_METHOD": "random",
              "STRINGIFY_COLUMN_VALUES": true,
              "STRINGIFY_INDEX_VALUES": false
            },
            "sample_history": [],
            "sampling_time": "2023-05-14T15:43:20.262158",
            "user_variable_name": null,
            "variable_name": "unk_dataframe_80388d57925443c19b0d838d7086b11f"
          },
          "74e5c534-85d7-4925-86df-15dee526b9c7": {
            "applied_filters": [],
            "dataframe_info": {
              "default_index_used": true,
              "orig_num_cols": 18,
              "orig_num_rows": 5,
              "orig_size_bytes": 848,
              "truncated_num_cols": 18,
              "truncated_num_rows": 5,
              "truncated_size_bytes": 848,
              "truncated_string_columns": []
            },
            "display_id": "74e5c534-85d7-4925-86df-15dee526b9c7",
            "dx_settings": {
              "ALLOW_NOTEABLE_ATTRS": true,
              "COLUMN_SAMPLING_METHOD": "outer",
              "DB_LOCATION": ":memory:",
              "DEV_MODE": false,
              "DISPLAY_MAX_COLUMNS": 100,
              "DISPLAY_MAX_ROWS": 50000,
              "DISPLAY_MODE": "simple",
              "ENABLE_ASSIGNMENT": true,
              "ENABLE_DATALINK": true,
              "FLATTEN_COLUMN_VALUES": true,
              "FLATTEN_INDEX_VALUES": false,
              "GENERATE_DEX_METADATA": false,
              "HTML_TABLE_SCHEMA": false,
              "LOG_LEVEL": 30,
              "MAX_RENDER_SIZE_BYTES": 104857600,
              "MAX_STRING_LENGTH": 250,
              "NUM_PAST_SAMPLES_TRACKED": 3,
              "RANDOM_STATE": 12648430,
              "RESET_INDEX_VALUES": false,
              "ROW_SAMPLING_METHOD": "random",
              "SAMPLING_FACTOR": 0.1,
              "SAMPLING_METHOD": "random",
              "STRINGIFY_COLUMN_VALUES": true,
              "STRINGIFY_INDEX_VALUES": false
            },
            "sample_history": [],
            "sampling_time": "2023-05-14T15:48:43.240796",
            "user_variable_name": null,
            "variable_name": "unk_dataframe_0aa8fb9180cd41ddba507feac29a37d4"
          },
          "cd996ece-52a6-4d2b-9b7e-ca830d10510a": {
            "applied_filters": [],
            "dataframe_info": {
              "default_index_used": false,
              "orig_num_cols": 16,
              "orig_num_rows": 8527,
              "orig_size_bytes": 1159672,
              "truncated_num_cols": 16,
              "truncated_num_rows": 8527,
              "truncated_size_bytes": 1159672,
              "truncated_string_columns": [
                "ASSOC_ACTOR_1",
                "NOTES"
              ]
            },
            "display_id": "cd996ece-52a6-4d2b-9b7e-ca830d10510a",
            "dx_settings": {
              "ALLOW_NOTEABLE_ATTRS": true,
              "COLUMN_SAMPLING_METHOD": "outer",
              "DB_LOCATION": ":memory:",
              "DEV_MODE": false,
              "DISPLAY_MAX_COLUMNS": 100,
              "DISPLAY_MAX_ROWS": 50000,
              "DISPLAY_MODE": "simple",
              "ENABLE_ASSIGNMENT": true,
              "ENABLE_DATALINK": true,
              "FLATTEN_COLUMN_VALUES": true,
              "FLATTEN_INDEX_VALUES": false,
              "GENERATE_DEX_METADATA": false,
              "HTML_TABLE_SCHEMA": false,
              "LOG_LEVEL": 30,
              "MAX_RENDER_SIZE_BYTES": 104857600,
              "MAX_STRING_LENGTH": 250,
              "NUM_PAST_SAMPLES_TRACKED": 3,
              "RANDOM_STATE": 12648430,
              "RESET_INDEX_VALUES": false,
              "ROW_SAMPLING_METHOD": "random",
              "SAMPLING_FACTOR": 0.1,
              "SAMPLING_METHOD": "random",
              "STRINGIFY_COLUMN_VALUES": true,
              "STRINGIFY_INDEX_VALUES": false
            },
            "sample_history": [],
            "sampling_time": "2023-05-14T15:51:15.494152",
            "user_variable_name": "burkina_df",
            "variable_name": "burkina_df"
          },
          "81b25d86-3467-452c-a20b-1936ef5571e0": {
            "applied_filters": [],
            "dataframe_info": {
              "default_index_used": true,
              "orig_num_cols": 17,
              "orig_num_rows": 8527,
              "orig_size_bytes": 1159800,
              "truncated_num_cols": 17,
              "truncated_num_rows": 8527,
              "truncated_size_bytes": 1159800,
              "truncated_string_columns": [
                "ASSOC_ACTOR_1",
                "NOTES"
              ]
            },
            "display_id": "81b25d86-3467-452c-a20b-1936ef5571e0",
            "dx_settings": {
              "ALLOW_NOTEABLE_ATTRS": true,
              "COLUMN_SAMPLING_METHOD": "outer",
              "DB_LOCATION": ":memory:",
              "DEV_MODE": false,
              "DISPLAY_MAX_COLUMNS": 100,
              "DISPLAY_MAX_ROWS": 50000,
              "DISPLAY_MODE": "simple",
              "ENABLE_ASSIGNMENT": true,
              "ENABLE_DATALINK": true,
              "FLATTEN_COLUMN_VALUES": true,
              "FLATTEN_INDEX_VALUES": false,
              "GENERATE_DEX_METADATA": false,
              "HTML_TABLE_SCHEMA": false,
              "LOG_LEVEL": 30,
              "MAX_RENDER_SIZE_BYTES": 104857600,
              "MAX_STRING_LENGTH": 250,
              "NUM_PAST_SAMPLES_TRACKED": 3,
              "RANDOM_STATE": 12648430,
              "RESET_INDEX_VALUES": false,
              "ROW_SAMPLING_METHOD": "random",
              "SAMPLING_FACTOR": 0.1,
              "SAMPLING_METHOD": "random",
              "STRINGIFY_COLUMN_VALUES": true,
              "STRINGIFY_INDEX_VALUES": false
            },
            "sample_history": [],
            "sampling_time": "2023-05-14T16:05:59.545603",
            "user_variable_name": "burkina_df",
            "variable_name": "burkina_df"
          },
          "37079803-a573-4e65-b40a-604634ba06cc": {
            "applied_filters": [],
            "dataframe_info": {
              "default_index_used": true,
              "orig_num_cols": 17,
              "orig_num_rows": 8527,
              "orig_size_bytes": 1159800,
              "truncated_num_cols": 17,
              "truncated_num_rows": 8527,
              "truncated_size_bytes": 1159800,
              "truncated_string_columns": [
                "ASSOC_ACTOR_1",
                "NOTES"
              ]
            },
            "display_id": "37079803-a573-4e65-b40a-604634ba06cc",
            "dx_settings": {
              "ALLOW_NOTEABLE_ATTRS": true,
              "COLUMN_SAMPLING_METHOD": "outer",
              "DB_LOCATION": ":memory:",
              "DEV_MODE": false,
              "DISPLAY_MAX_COLUMNS": 100,
              "DISPLAY_MAX_ROWS": 50000,
              "DISPLAY_MODE": "simple",
              "ENABLE_ASSIGNMENT": true,
              "ENABLE_DATALINK": true,
              "FLATTEN_COLUMN_VALUES": true,
              "FLATTEN_INDEX_VALUES": false,
              "GENERATE_DEX_METADATA": false,
              "HTML_TABLE_SCHEMA": false,
              "LOG_LEVEL": 30,
              "MAX_RENDER_SIZE_BYTES": 104857600,
              "MAX_STRING_LENGTH": 250,
              "NUM_PAST_SAMPLES_TRACKED": 3,
              "RANDOM_STATE": 12648430,
              "RESET_INDEX_VALUES": false,
              "ROW_SAMPLING_METHOD": "random",
              "SAMPLING_FACTOR": 0.1,
              "SAMPLING_METHOD": "random",
              "STRINGIFY_COLUMN_VALUES": true,
              "STRINGIFY_INDEX_VALUES": false
            },
            "sample_history": [],
            "sampling_time": "2023-05-14T17:31:25.702408",
            "user_variable_name": "burkina_df",
            "variable_name": "burkina_df"
          },
          "60f907fa-9183-4169-89ae-7d4c79bc7568": {
            "applied_filters": [],
            "dataframe_info": {
              "default_index_used": true,
              "orig_num_cols": 17,
              "orig_num_rows": 8527,
              "orig_size_bytes": 1159800,
              "truncated_num_cols": 17,
              "truncated_num_rows": 8527,
              "truncated_size_bytes": 1159800,
              "truncated_string_columns": [
                "ASSOC_ACTOR_1",
                "NOTES"
              ]
            },
            "display_id": "60f907fa-9183-4169-89ae-7d4c79bc7568",
            "dx_settings": {
              "ALLOW_NOTEABLE_ATTRS": true,
              "COLUMN_SAMPLING_METHOD": "outer",
              "DB_LOCATION": ":memory:",
              "DEV_MODE": false,
              "DISPLAY_MAX_COLUMNS": 100,
              "DISPLAY_MAX_ROWS": 50000,
              "DISPLAY_MODE": "simple",
              "ENABLE_ASSIGNMENT": true,
              "ENABLE_DATALINK": true,
              "FLATTEN_COLUMN_VALUES": true,
              "FLATTEN_INDEX_VALUES": false,
              "GENERATE_DEX_METADATA": false,
              "HTML_TABLE_SCHEMA": false,
              "LOG_LEVEL": 30,
              "MAX_RENDER_SIZE_BYTES": 104857600,
              "MAX_STRING_LENGTH": 250,
              "NUM_PAST_SAMPLES_TRACKED": 3,
              "RANDOM_STATE": 12648430,
              "RESET_INDEX_VALUES": false,
              "ROW_SAMPLING_METHOD": "random",
              "SAMPLING_FACTOR": 0.1,
              "SAMPLING_METHOD": "random",
              "STRINGIFY_COLUMN_VALUES": true,
              "STRINGIFY_INDEX_VALUES": false
            },
            "sample_history": [],
            "sampling_time": "2023-05-15T20:49:19.267050",
            "user_variable_name": "burkina_df",
            "variable_name": "burkina_df"
          }
        },
        "dx": {
          "fieldMetadata": {},
          "simpleTable": true,
          "updated": 1684078869887,
          "views": []
        },
        "ExecuteTime": {
          "end_time": "2023-05-15T20:49:19.560386+00:00",
          "start_time": "2023-05-15T20:49:18.748671+00:00"
        }
      },
      "execution_count": null,
      "source": "burkina_df = pd.read_csv('burkina_df.csv')\nburkina_df.set_index('EVENT_DATE', inplace=True)\nburkina_df.reset_index(inplace=True)\nburkina_df",
      "outputs": []
    },
    {
      "id": "0f27c8868b9f470e867cc37dbdf61190",
      "cell_type": "code",
      "metadata": {
        "noteable": {
          "assign_results_to": "sql_df_1",
          "cell_type": "sql",
          "db_connection": "@noteable",
          "output_collection_id": "d656c293-8ad9-4b49-837b-46c013f5f2a0"
        },
        "ExecuteTime": {
          "end_time": "2023-05-15T20:49:23.908143+00:00",
          "start_time": "2023-05-15T20:49:22.951807+00:00"
        },
        "datalink": {
          "ac48825e-bef8-43d9-9ec2-ea2e393dc64a": {
            "applied_filters": [],
            "dataframe_info": {
              "default_index_used": true,
              "orig_num_cols": 16,
              "orig_num_rows": 8527,
              "orig_size_bytes": 1091584,
              "truncated_num_cols": 16,
              "truncated_num_rows": 8527,
              "truncated_size_bytes": 1091584,
              "truncated_string_columns": [
                "ASSOC_ACTOR_1",
                "NOTES"
              ]
            },
            "display_id": "ac48825e-bef8-43d9-9ec2-ea2e393dc64a",
            "dx_settings": {
              "ALLOW_NOTEABLE_ATTRS": true,
              "COLUMN_SAMPLING_METHOD": "outer",
              "DB_LOCATION": ":memory:",
              "DEV_MODE": false,
              "DISPLAY_MAX_COLUMNS": 100,
              "DISPLAY_MAX_ROWS": 50000,
              "DISPLAY_MODE": "simple",
              "ENABLE_ASSIGNMENT": true,
              "ENABLE_DATALINK": true,
              "FLATTEN_COLUMN_VALUES": true,
              "FLATTEN_INDEX_VALUES": false,
              "GENERATE_DEX_METADATA": false,
              "HTML_TABLE_SCHEMA": false,
              "LOG_LEVEL": 30,
              "MAX_RENDER_SIZE_BYTES": 104857600,
              "MAX_STRING_LENGTH": 250,
              "NUM_PAST_SAMPLES_TRACKED": 3,
              "RANDOM_STATE": 12648430,
              "RESET_INDEX_VALUES": false,
              "ROW_SAMPLING_METHOD": "random",
              "SAMPLING_FACTOR": 0.1,
              "SAMPLING_METHOD": "random",
              "STRINGIFY_COLUMN_VALUES": true,
              "STRINGIFY_INDEX_VALUES": false
            },
            "sample_history": [],
            "sampling_time": "2023-05-14T16:00:35.826222",
            "user_variable_name": "sql_df_1",
            "variable_name": "sql_df_1"
          },
          "9f3762f6-e14a-4488-8cec-7d1ec067e387": {
            "applied_filters": [],
            "dataframe_info": {
              "default_index_used": true,
              "orig_num_cols": 17,
              "orig_num_rows": 8212,
              "orig_size_bytes": 1116960,
              "truncated_num_cols": 17,
              "truncated_num_rows": 8212,
              "truncated_size_bytes": 1116960,
              "truncated_string_columns": [
                "ASSOC_ACTOR_1",
                "NOTES"
              ]
            },
            "display_id": "9f3762f6-e14a-4488-8cec-7d1ec067e387",
            "dx_settings": {
              "ALLOW_NOTEABLE_ATTRS": true,
              "COLUMN_SAMPLING_METHOD": "outer",
              "DB_LOCATION": ":memory:",
              "DEV_MODE": false,
              "DISPLAY_MAX_COLUMNS": 100,
              "DISPLAY_MAX_ROWS": 50000,
              "DISPLAY_MODE": "simple",
              "ENABLE_ASSIGNMENT": true,
              "ENABLE_DATALINK": true,
              "FLATTEN_COLUMN_VALUES": true,
              "FLATTEN_INDEX_VALUES": false,
              "GENERATE_DEX_METADATA": false,
              "HTML_TABLE_SCHEMA": false,
              "LOG_LEVEL": 30,
              "MAX_RENDER_SIZE_BYTES": 104857600,
              "MAX_STRING_LENGTH": 250,
              "NUM_PAST_SAMPLES_TRACKED": 3,
              "RANDOM_STATE": 12648430,
              "RESET_INDEX_VALUES": false,
              "ROW_SAMPLING_METHOD": "random",
              "SAMPLING_FACTOR": 0.1,
              "SAMPLING_METHOD": "random",
              "STRINGIFY_COLUMN_VALUES": true,
              "STRINGIFY_INDEX_VALUES": false
            },
            "sample_history": [],
            "sampling_time": "2023-05-14T16:09:33.176228",
            "user_variable_name": "sql_df_1",
            "variable_name": "sql_df_1"
          },
          "abb950bb-e08e-42cb-aaa5-7886e2433fdc": {
            "applied_filters": [],
            "dataframe_info": {
              "default_index_used": true,
              "orig_num_cols": 17,
              "orig_num_rows": 8212,
              "orig_size_bytes": 1116960,
              "truncated_num_cols": 17,
              "truncated_num_rows": 8212,
              "truncated_size_bytes": 1116960,
              "truncated_string_columns": [
                "ASSOC_ACTOR_1",
                "NOTES"
              ]
            },
            "display_id": "abb950bb-e08e-42cb-aaa5-7886e2433fdc",
            "dx_settings": {
              "ALLOW_NOTEABLE_ATTRS": true,
              "COLUMN_SAMPLING_METHOD": "outer",
              "DB_LOCATION": ":memory:",
              "DEV_MODE": false,
              "DISPLAY_MAX_COLUMNS": 100,
              "DISPLAY_MAX_ROWS": 50000,
              "DISPLAY_MODE": "simple",
              "ENABLE_ASSIGNMENT": true,
              "ENABLE_DATALINK": true,
              "FLATTEN_COLUMN_VALUES": true,
              "FLATTEN_INDEX_VALUES": false,
              "GENERATE_DEX_METADATA": false,
              "HTML_TABLE_SCHEMA": false,
              "LOG_LEVEL": 30,
              "MAX_RENDER_SIZE_BYTES": 104857600,
              "MAX_STRING_LENGTH": 250,
              "NUM_PAST_SAMPLES_TRACKED": 3,
              "RANDOM_STATE": 12648430,
              "RESET_INDEX_VALUES": false,
              "ROW_SAMPLING_METHOD": "random",
              "SAMPLING_FACTOR": 0.1,
              "SAMPLING_METHOD": "random",
              "STRINGIFY_COLUMN_VALUES": true,
              "STRINGIFY_INDEX_VALUES": false
            },
            "sample_history": [],
            "sampling_time": "2023-05-14T17:31:37.716751",
            "user_variable_name": "sql_df_1",
            "variable_name": "sql_df_1"
          },
          "e5df0971-8261-4a49-9a8c-a230cd9a6138": {
            "applied_filters": [],
            "dataframe_info": {
              "default_index_used": true,
              "orig_num_cols": 17,
              "orig_num_rows": 8212,
              "orig_size_bytes": 1116960,
              "truncated_num_cols": 17,
              "truncated_num_rows": 8212,
              "truncated_size_bytes": 1116960,
              "truncated_string_columns": [
                "ASSOC_ACTOR_1",
                "NOTES"
              ]
            },
            "display_id": "e5df0971-8261-4a49-9a8c-a230cd9a6138",
            "dx_settings": {
              "ALLOW_NOTEABLE_ATTRS": true,
              "COLUMN_SAMPLING_METHOD": "outer",
              "DB_LOCATION": ":memory:",
              "DEV_MODE": false,
              "DISPLAY_MAX_COLUMNS": 100,
              "DISPLAY_MAX_ROWS": 50000,
              "DISPLAY_MODE": "simple",
              "ENABLE_ASSIGNMENT": true,
              "ENABLE_DATALINK": true,
              "FLATTEN_COLUMN_VALUES": true,
              "FLATTEN_INDEX_VALUES": false,
              "GENERATE_DEX_METADATA": false,
              "HTML_TABLE_SCHEMA": false,
              "LOG_LEVEL": 30,
              "MAX_RENDER_SIZE_BYTES": 104857600,
              "MAX_STRING_LENGTH": 250,
              "NUM_PAST_SAMPLES_TRACKED": 3,
              "RANDOM_STATE": 12648430,
              "RESET_INDEX_VALUES": false,
              "ROW_SAMPLING_METHOD": "random",
              "SAMPLING_FACTOR": 0.1,
              "SAMPLING_METHOD": "random",
              "STRINGIFY_COLUMN_VALUES": true,
              "STRINGIFY_INDEX_VALUES": false
            },
            "sample_history": [],
            "sampling_time": "2023-05-15T20:49:23.626403",
            "user_variable_name": "sql_df_1",
            "variable_name": "sql_df_1"
          }
        }
      },
      "execution_count": null,
      "source": "SELECT *\nFROM burkina_df\nWHERE EVENT_DATE BETWEEN '2013-01-01' AND (SELECT MAX(EVENT_DATE) FROM burkina_df);",
      "outputs": []
    },
    {
      "id": "94a917f4-d92a-4de0-b99c-d24ce84db66f",
      "cell_type": "code",
      "metadata": {
        "jupyter": {
          "outputs_hidden": false,
          "source_hidden": false
        },
        "noteable": {
          "cell_type": "code",
          "output_collection_id": "1e8cb151-77a8-4c59-b816-48490b81d71f"
        },
        "ExecuteTime": {
          "end_time": "2023-05-15T20:49:28.881833+00:00",
          "start_time": "2023-05-15T20:49:28.624835+00:00"
        },
        "datalink": {
          "0fbf4e45-73a5-44e0-aca0-ce581e102c13": {
            "applied_filters": [],
            "dataframe_info": {
              "default_index_used": true,
              "orig_num_cols": 17,
              "orig_num_rows": 5,
              "orig_size_bytes": 808,
              "truncated_num_cols": 17,
              "truncated_num_rows": 5,
              "truncated_size_bytes": 808,
              "truncated_string_columns": [
                "NOTES"
              ]
            },
            "display_id": "0fbf4e45-73a5-44e0-aca0-ce581e102c13",
            "dx_settings": {
              "ALLOW_NOTEABLE_ATTRS": true,
              "COLUMN_SAMPLING_METHOD": "outer",
              "DB_LOCATION": ":memory:",
              "DEV_MODE": false,
              "DISPLAY_MAX_COLUMNS": 100,
              "DISPLAY_MAX_ROWS": 50000,
              "DISPLAY_MODE": "simple",
              "ENABLE_ASSIGNMENT": true,
              "ENABLE_DATALINK": true,
              "FLATTEN_COLUMN_VALUES": true,
              "FLATTEN_INDEX_VALUES": false,
              "GENERATE_DEX_METADATA": false,
              "HTML_TABLE_SCHEMA": false,
              "LOG_LEVEL": 30,
              "MAX_RENDER_SIZE_BYTES": 104857600,
              "MAX_STRING_LENGTH": 250,
              "NUM_PAST_SAMPLES_TRACKED": 3,
              "RANDOM_STATE": 12648430,
              "RESET_INDEX_VALUES": false,
              "ROW_SAMPLING_METHOD": "random",
              "SAMPLING_FACTOR": 0.1,
              "SAMPLING_METHOD": "random",
              "STRINGIFY_COLUMN_VALUES": true,
              "STRINGIFY_INDEX_VALUES": false
            },
            "sample_history": [],
            "sampling_time": "2023-05-14T16:10:43.281244",
            "user_variable_name": null,
            "variable_name": "unk_dataframe_b2e00494c52049d2af0e27a0dc5162f4"
          },
          "a358998a-e19d-417e-bf56-dc1d37325590": {
            "applied_filters": [],
            "dataframe_info": {
              "default_index_used": true,
              "orig_num_cols": 17,
              "orig_num_rows": 5,
              "orig_size_bytes": 808,
              "truncated_num_cols": 17,
              "truncated_num_rows": 5,
              "truncated_size_bytes": 808,
              "truncated_string_columns": [
                "NOTES"
              ]
            },
            "display_id": "a358998a-e19d-417e-bf56-dc1d37325590",
            "dx_settings": {
              "ALLOW_NOTEABLE_ATTRS": true,
              "COLUMN_SAMPLING_METHOD": "outer",
              "DB_LOCATION": ":memory:",
              "DEV_MODE": false,
              "DISPLAY_MAX_COLUMNS": 100,
              "DISPLAY_MAX_ROWS": 50000,
              "DISPLAY_MODE": "simple",
              "ENABLE_ASSIGNMENT": true,
              "ENABLE_DATALINK": true,
              "FLATTEN_COLUMN_VALUES": true,
              "FLATTEN_INDEX_VALUES": false,
              "GENERATE_DEX_METADATA": false,
              "HTML_TABLE_SCHEMA": false,
              "LOG_LEVEL": 30,
              "MAX_RENDER_SIZE_BYTES": 104857600,
              "MAX_STRING_LENGTH": 250,
              "NUM_PAST_SAMPLES_TRACKED": 3,
              "RANDOM_STATE": 12648430,
              "RESET_INDEX_VALUES": false,
              "ROW_SAMPLING_METHOD": "random",
              "SAMPLING_FACTOR": 0.1,
              "SAMPLING_METHOD": "random",
              "STRINGIFY_COLUMN_VALUES": true,
              "STRINGIFY_INDEX_VALUES": false
            },
            "sample_history": [],
            "sampling_time": "2023-05-14T17:31:58.936883",
            "user_variable_name": null,
            "variable_name": "unk_dataframe_e4cbd1b927e64db0970aef6daca10734"
          },
          "772a214a-1866-4b6a-9460-e251027b4ca1": {
            "applied_filters": [],
            "dataframe_info": {
              "default_index_used": true,
              "orig_num_cols": 17,
              "orig_num_rows": 5,
              "orig_size_bytes": 808,
              "truncated_num_cols": 17,
              "truncated_num_rows": 5,
              "truncated_size_bytes": 808,
              "truncated_string_columns": [
                "NOTES"
              ]
            },
            "display_id": "772a214a-1866-4b6a-9460-e251027b4ca1",
            "dx_settings": {
              "ALLOW_NOTEABLE_ATTRS": true,
              "COLUMN_SAMPLING_METHOD": "outer",
              "DB_LOCATION": ":memory:",
              "DEV_MODE": false,
              "DISPLAY_MAX_COLUMNS": 100,
              "DISPLAY_MAX_ROWS": 50000,
              "DISPLAY_MODE": "simple",
              "ENABLE_ASSIGNMENT": true,
              "ENABLE_DATALINK": true,
              "FLATTEN_COLUMN_VALUES": true,
              "FLATTEN_INDEX_VALUES": false,
              "GENERATE_DEX_METADATA": false,
              "HTML_TABLE_SCHEMA": false,
              "LOG_LEVEL": 30,
              "MAX_RENDER_SIZE_BYTES": 104857600,
              "MAX_STRING_LENGTH": 250,
              "NUM_PAST_SAMPLES_TRACKED": 3,
              "RANDOM_STATE": 12648430,
              "RESET_INDEX_VALUES": false,
              "ROW_SAMPLING_METHOD": "random",
              "SAMPLING_FACTOR": 0.1,
              "SAMPLING_METHOD": "random",
              "STRINGIFY_COLUMN_VALUES": true,
              "STRINGIFY_INDEX_VALUES": false
            },
            "sample_history": [],
            "sampling_time": "2023-05-15T20:49:28.719107",
            "user_variable_name": null,
            "variable_name": "unk_dataframe_080f28692e1b4f0aa4177158760b5b4e"
          }
        }
      },
      "execution_count": null,
      "source": "sql_df_1.head()",
      "outputs": []
    },
    {
      "id": "c8d82456-f48c-429e-ae0c-32f861ce6825",
      "cell_type": "code",
      "metadata": {
        "jupyter": {
          "outputs_hidden": false,
          "source_hidden": false
        },
        "noteable": {
          "cell_type": "code",
          "output_collection_id": "d3527b00-2428-4466-b6b1-9f0f9579be33"
        },
        "ExecuteTime": {
          "end_time": "2023-05-15T20:49:29.071057+00:00",
          "start_time": "2023-05-15T20:49:28.891249+00:00"
        }
      },
      "execution_count": null,
      "source": "sql_df_1.info()",
      "outputs": []
    },
    {
      "id": "b2baaee8-05b3-4b0d-82fe-68b2df9fbc99",
      "cell_type": "code",
      "metadata": {
        "jupyter": {
          "outputs_hidden": false,
          "source_hidden": false
        },
        "noteable": {
          "cell_type": "code",
          "output_collection_id": "b9be787c-1617-43ce-ad77-7f52dd3b4133"
        },
        "ExecuteTime": {
          "end_time": "2023-05-15T20:49:29.845950+00:00",
          "start_time": "2023-05-15T20:49:29.079019+00:00"
        },
        "datalink": {
          "d768f467-f2e8-4d4c-bc96-cdfae27c9054": {
            "applied_filters": [],
            "dataframe_info": {
              "default_index_used": true,
              "orig_num_cols": 17,
              "orig_num_rows": 8212,
              "orig_size_bytes": 1116960,
              "truncated_num_cols": 17,
              "truncated_num_rows": 8212,
              "truncated_size_bytes": 1116960,
              "truncated_string_columns": [
                "ASSOC_ACTOR_1",
                "NOTES"
              ]
            },
            "display_id": "d768f467-f2e8-4d4c-bc96-cdfae27c9054",
            "dx_settings": {
              "ALLOW_NOTEABLE_ATTRS": true,
              "COLUMN_SAMPLING_METHOD": "outer",
              "DB_LOCATION": ":memory:",
              "DEV_MODE": false,
              "DISPLAY_MAX_COLUMNS": 100,
              "DISPLAY_MAX_ROWS": 50000,
              "DISPLAY_MODE": "simple",
              "ENABLE_ASSIGNMENT": true,
              "ENABLE_DATALINK": true,
              "FLATTEN_COLUMN_VALUES": true,
              "FLATTEN_INDEX_VALUES": false,
              "GENERATE_DEX_METADATA": false,
              "HTML_TABLE_SCHEMA": false,
              "LOG_LEVEL": 30,
              "MAX_RENDER_SIZE_BYTES": 104857600,
              "MAX_STRING_LENGTH": 250,
              "NUM_PAST_SAMPLES_TRACKED": 3,
              "RANDOM_STATE": 12648430,
              "RESET_INDEX_VALUES": false,
              "ROW_SAMPLING_METHOD": "random",
              "SAMPLING_FACTOR": 0.1,
              "SAMPLING_METHOD": "random",
              "STRINGIFY_COLUMN_VALUES": true,
              "STRINGIFY_INDEX_VALUES": false
            },
            "sample_history": [],
            "sampling_time": "2023-05-14T16:25:32.328952",
            "user_variable_name": "burkina_df",
            "variable_name": "burkina_df"
          },
          "7f1ab0b5-40a8-406d-8dbd-833fe8bd998a": {
            "applied_filters": [],
            "dataframe_info": {
              "default_index_used": true,
              "orig_num_cols": 17,
              "orig_num_rows": 8212,
              "orig_size_bytes": 1116960,
              "truncated_num_cols": 17,
              "truncated_num_rows": 8212,
              "truncated_size_bytes": 1116960,
              "truncated_string_columns": [
                "ASSOC_ACTOR_1",
                "NOTES"
              ]
            },
            "display_id": "7f1ab0b5-40a8-406d-8dbd-833fe8bd998a",
            "dx_settings": {
              "ALLOW_NOTEABLE_ATTRS": true,
              "COLUMN_SAMPLING_METHOD": "outer",
              "DB_LOCATION": ":memory:",
              "DEV_MODE": false,
              "DISPLAY_MAX_COLUMNS": 100,
              "DISPLAY_MAX_ROWS": 50000,
              "DISPLAY_MODE": "simple",
              "ENABLE_ASSIGNMENT": true,
              "ENABLE_DATALINK": true,
              "FLATTEN_COLUMN_VALUES": true,
              "FLATTEN_INDEX_VALUES": false,
              "GENERATE_DEX_METADATA": false,
              "HTML_TABLE_SCHEMA": false,
              "LOG_LEVEL": 30,
              "MAX_RENDER_SIZE_BYTES": 104857600,
              "MAX_STRING_LENGTH": 250,
              "NUM_PAST_SAMPLES_TRACKED": 3,
              "RANDOM_STATE": 12648430,
              "RESET_INDEX_VALUES": false,
              "ROW_SAMPLING_METHOD": "random",
              "SAMPLING_FACTOR": 0.1,
              "SAMPLING_METHOD": "random",
              "STRINGIFY_COLUMN_VALUES": true,
              "STRINGIFY_INDEX_VALUES": false
            },
            "sample_history": [],
            "sampling_time": "2023-05-14T17:32:12.972583",
            "user_variable_name": "burkina_df",
            "variable_name": "burkina_df"
          },
          "c366f6c1-62db-4275-96bc-93c1c0266c8a": {
            "applied_filters": [],
            "dataframe_info": {
              "default_index_used": true,
              "orig_num_cols": 17,
              "orig_num_rows": 8212,
              "orig_size_bytes": 1116960,
              "truncated_num_cols": 17,
              "truncated_num_rows": 8212,
              "truncated_size_bytes": 1116960,
              "truncated_string_columns": [
                "ASSOC_ACTOR_1",
                "NOTES"
              ]
            },
            "display_id": "c366f6c1-62db-4275-96bc-93c1c0266c8a",
            "dx_settings": {
              "ALLOW_NOTEABLE_ATTRS": true,
              "COLUMN_SAMPLING_METHOD": "outer",
              "DB_LOCATION": ":memory:",
              "DEV_MODE": false,
              "DISPLAY_MAX_COLUMNS": 100,
              "DISPLAY_MAX_ROWS": 50000,
              "DISPLAY_MODE": "simple",
              "ENABLE_ASSIGNMENT": true,
              "ENABLE_DATALINK": true,
              "FLATTEN_COLUMN_VALUES": true,
              "FLATTEN_INDEX_VALUES": false,
              "GENERATE_DEX_METADATA": false,
              "HTML_TABLE_SCHEMA": false,
              "LOG_LEVEL": 30,
              "MAX_RENDER_SIZE_BYTES": 104857600,
              "MAX_STRING_LENGTH": 250,
              "NUM_PAST_SAMPLES_TRACKED": 3,
              "RANDOM_STATE": 12648430,
              "RESET_INDEX_VALUES": false,
              "ROW_SAMPLING_METHOD": "random",
              "SAMPLING_FACTOR": 0.1,
              "SAMPLING_METHOD": "random",
              "STRINGIFY_COLUMN_VALUES": true,
              "STRINGIFY_INDEX_VALUES": false
            },
            "sample_history": [],
            "sampling_time": "2023-05-15T20:49:29.567810",
            "user_variable_name": "burkina_df",
            "variable_name": "burkina_df"
          }
        },
        "dx": {
          "dashboard": {
            "multiViews": [
              {
                "dashboardFilter": true,
                "decoration": {
                  "footer": "Data from 01/01/2013-04/28/2023",
                  "subtitle": "Visualizing Violence in Burkina Faso",
                  "title": "Burkina Faso"
                },
                "filterSettings": {
                  "SHOW_FILTER_PANEL": true,
                  "filters": []
                },
                "id": "f9df7f9a-ce3f-4369-a3b5-63aa2ecb5e43",
                "viewSizes": {},
                "views": [
                  {
                    "column": 0,
                    "id": "6d1f15ff-7696-4952-90f3-8a6c8bca6ace",
                    "row": 0
                  }
                ],
                "viewsIgnoringDashboardFilters": {}
              }
            ]
          },
          "fieldMetadata": {},
          "simpleTable": false,
          "updated": 1684185232292,
          "views": [
            {
              "annotationRules": [],
              "chart": {
                "facets": [],
                "layerSettings": [
                  {
                    "combinationMetric": "FATALITIES",
                    "combinationMode": "MAX",
                    "fill": "#ffffff",
                    "hoverOpts": {},
                    "id": "0a3cdeb3-83f2-4511-95a1-dfe14fb3b9ed",
                    "joinDim": "LOCATION",
                    "stroke": "#000000",
                    "strokeWidth": 0,
                    "transparency": 0.9,
                    "type": "choro"
                  },
                  {
                    "aggValue": "none",
                    "color": "#000000",
                    "hoverOpts": {
                      "dims": [
                        "EVENT_DATE",
                        "SUB_EVENT_TYPE",
                        "CIVILIAN_TARGETING"
                      ],
                      "mets": [
                        "FATALITIES"
                      ]
                    },
                    "id": "a2045d07-24fe-4c50-af11-b78f768e1435",
                    "latDim": "LATITUDE",
                    "longDim": "LONGITUDE",
                    "pointSizeOpts": {
                      "max": 160,
                      "met": "FATALITIES",
                      "min": 1,
                      "mode": "functional",
                      "scale": "Linear",
                      "size": 2,
                      "sizeMax": 10,
                      "sizeMin": 1
                    },
                    "size": 2,
                    "stroke": "#000000",
                    "strokeWidth": 0.25,
                    "tileLayer": "outdoors-v11",
                    "transparency": 0.7,
                    "type": "point"
                  }
                ],
                "mapMode": "tile",
                "mapZoom": "data",
                "suggestionFields": [
                  "FATALITIES - Metric",
                  "EVENT_DATE - Dimension"
                ]
              },
              "chartMode": "tilemap",
              "confoRules": [
                {
                  "colorOpts": {
                    "categoryPalette": null,
                    "color": "#e31a1c",
                    "colorsHash": null,
                    "cond": "=",
                    "gradient": null,
                    "max": "Explosions/Remote violence",
                    "min": "Battles",
                    "mode": "functional",
                    "scale": null,
                    "thresholdColors": null,
                    "thresholdValues": null
                  },
                  "columnType": "Dimension",
                  "fieldName": "EVENT_TYPE",
                  "id": "62ee32b0-71e0-4f25-8e16-bd1577857f49",
                  "index": -19.5,
                  "name": ""
                },
                {
                  "colorOpts": {
                    "categoryPalette": null,
                    "color": "#e46538",
                    "colorsHash": null,
                    "cond": "=",
                    "gradient": null,
                    "max": "Violence against civilians",
                    "min": "Explosions/Remote violence",
                    "mode": "functional",
                    "scale": null,
                    "thresholdColors": null,
                    "thresholdValues": null
                  },
                  "columnType": "Dimension",
                  "fieldName": "EVENT_TYPE",
                  "id": "21ac428f-9db9-4db9-a574-c6bf0114c35d",
                  "index": -18.5,
                  "name": ""
                },
                {
                  "colorOpts": {
                    "categoryPalette": null,
                    "color": "#01B0B9",
                    "colorsHash": null,
                    "cond": "=",
                    "gradient": null,
                    "max": "Violence against civilians",
                    "min": "Protests",
                    "mode": "functional",
                    "scale": null,
                    "thresholdColors": null,
                    "thresholdValues": null
                  },
                  "columnType": "Dimension",
                  "fieldName": "EVENT_TYPE",
                  "id": "f99136bf-4f1d-4531-ab4a-0b303c46523c",
                  "index": -17.5,
                  "name": ""
                },
                {
                  "colorOpts": {
                    "categoryPalette": null,
                    "color": "#d5d2e7",
                    "colorsHash": null,
                    "cond": "=",
                    "gradient": null,
                    "max": "Violence against civilians",
                    "min": "Riots",
                    "mode": "functional",
                    "scale": null,
                    "thresholdColors": null,
                    "thresholdValues": null
                  },
                  "columnType": "Dimension",
                  "fieldName": "EVENT_TYPE",
                  "id": "037545be-36a9-40a4-bd99-293cdaf78dc3",
                  "index": -16.5,
                  "name": ""
                },
                {
                  "colorOpts": {
                    "categoryPalette": null,
                    "color": "#7ace30",
                    "colorsHash": null,
                    "cond": "=",
                    "gradient": null,
                    "max": "Violence against civilians",
                    "min": "Strategic developments",
                    "mode": "functional",
                    "scale": null,
                    "thresholdColors": null,
                    "thresholdValues": null
                  },
                  "columnType": "Dimension",
                  "fieldName": "EVENT_TYPE",
                  "id": "6c50aa22-5236-4c3d-b527-936228c77171",
                  "index": -15.5,
                  "name": ""
                },
                {
                  "colorOpts": {
                    "categoryPalette": null,
                    "color": "#f4d720",
                    "colorsHash": null,
                    "cond": "=",
                    "gradient": null,
                    "max": "Violence against civilians",
                    "min": "Violence against civilians",
                    "mode": "functional",
                    "scale": null,
                    "thresholdColors": null,
                    "thresholdValues": null
                  },
                  "columnType": "Dimension",
                  "fieldName": "EVENT_TYPE",
                  "id": "59799f7d-07b7-46fa-8e8a-b0fc4e0f79e2",
                  "index": -14.5,
                  "name": ""
                }
              ],
              "decoration": {
                "footer": "",
                "subtitle": "The red circles indicate battles between two or more actors. The yellow circles indicate violence against civilians. While there are circles of other colors, as they are sized by fatality count, it is these types of violent events that have resulted in the most fatalities per individual incident. ",
                "title": "Violence by Type and Fatalities"
              },
              "facets": [],
              "filterSettings": {
                "SHOW_FILTER_PANEL": true,
                "filters": []
              },
              "id": "6d1f15ff-7696-4952-90f3-8a6c8bca6ace",
              "isComment": false,
              "isDefault": true,
              "isTransitory": false,
              "type": "public",
              "userID": ""
            }
          ]
        },
        "scrolled": false
      },
      "execution_count": null,
      "source": "burkina_df = sql_df_1\nburkina_df",
      "outputs": []
    },
    {
      "id": "eb27b9e1-04ed-4efa-93d2-d52789b90dd7",
      "cell_type": "code",
      "metadata": {
        "jupyter": {
          "outputs_hidden": false,
          "source_hidden": false
        },
        "noteable": {
          "cell_type": "code",
          "output_collection_id": "721e93c6-cda9-44c8-8f8d-058f0e621a54"
        },
        "ExecuteTime": {
          "end_time": "2023-05-15T21:16:17.583137+00:00",
          "start_time": "2023-05-15T21:16:16.745883+00:00"
        },
        "datalink": {
          "9f5609b7-c7b7-4d22-8ebe-38f57b8abd39": {
            "applied_filters": [],
            "dataframe_info": {
              "default_index_used": true,
              "orig_num_cols": 17,
              "orig_num_rows": 8212,
              "orig_size_bytes": 1116960,
              "truncated_num_cols": 17,
              "truncated_num_rows": 8212,
              "truncated_size_bytes": 1116960,
              "truncated_string_columns": [
                "ASSOC_ACTOR_1",
                "NOTES"
              ]
            },
            "display_id": "9f5609b7-c7b7-4d22-8ebe-38f57b8abd39",
            "dx_settings": {
              "ALLOW_NOTEABLE_ATTRS": true,
              "COLUMN_SAMPLING_METHOD": "outer",
              "DB_LOCATION": ":memory:",
              "DEV_MODE": false,
              "DISPLAY_MAX_COLUMNS": 100,
              "DISPLAY_MAX_ROWS": 50000,
              "DISPLAY_MODE": "simple",
              "ENABLE_ASSIGNMENT": true,
              "ENABLE_DATALINK": true,
              "FLATTEN_COLUMN_VALUES": true,
              "FLATTEN_INDEX_VALUES": false,
              "GENERATE_DEX_METADATA": false,
              "HTML_TABLE_SCHEMA": false,
              "LOG_LEVEL": 30,
              "MAX_RENDER_SIZE_BYTES": 104857600,
              "MAX_STRING_LENGTH": 250,
              "NUM_PAST_SAMPLES_TRACKED": 3,
              "RANDOM_STATE": 12648430,
              "RESET_INDEX_VALUES": false,
              "ROW_SAMPLING_METHOD": "random",
              "SAMPLING_FACTOR": 0.1,
              "SAMPLING_METHOD": "random",
              "STRINGIFY_COLUMN_VALUES": true,
              "STRINGIFY_INDEX_VALUES": false
            },
            "sample_history": [],
            "sampling_time": "2023-05-15T21:16:17.294166",
            "user_variable_name": "burkina_df",
            "variable_name": "burkina_df"
          }
        },
        "dx": {
          "dashboard": {
            "multiViews": []
          },
          "fieldMetadata": {
            "ACTOR1": {
              "columnPosition": 6
            },
            "ACTOR2": {
              "columnPosition": 9
            },
            "ASSOC_ACTOR_1": {
              "columnPosition": 7
            },
            "ASSOC_ACTOR_2": {
              "columnPosition": 10
            },
            "CIVILIAN_TARGETING": {
              "columnPosition": 13
            },
            "DISORDER_TYPE": {
              "columnPosition": 3
            },
            "EVENT_DATE": {
              "columnPosition": 2,
              "dateFormat": "Python",
              "format": "yyyy-MM-dd",
              "overrideType": "datetime"
            },
            "EVENT_TYPE": {
              "columnPosition": 4
            },
            "FATALITIES": {
              "columnPosition": 18
            },
            "INTER1": {
              "columnPosition": 8
            },
            "INTER2": {
              "columnPosition": 11
            },
            "INTERACTION": {
              "columnPosition": 12
            },
            "LATITUDE": {
              "columnPosition": 15
            },
            "LOCATION": {
              "columnPosition": 14
            },
            "LONGITUDE": {
              "columnPosition": 16
            },
            "NOTES": {
              "columnPosition": 17
            },
            "SUB_EVENT_TYPE": {
              "columnPosition": 5
            },
            "index": {
              "columnPosition": 1
            }
          },
          "updated": 1684186723962,
          "views": [
            {
              "annotationRules": [],
              "chart": {},
              "chartMode": "grid",
              "confoRules": [],
              "decoration": {
                "footer": "",
                "subtitle": "",
                "title": "Table"
              },
              "facets": [],
              "filterSettings": {
                "SHOW_FILTER_PANEL": true,
                "filters": []
              },
              "id": "first-view",
              "isDefault": true,
              "type": "public",
              "userID": ""
            },
            {
              "annotationRules": [],
              "chart": {
                "tableSparklines": true
              },
              "chartMode": "grid",
              "confoRules": [],
              "decoration": {
                "footer": "",
                "subtitle": "",
                "title": "Table"
              },
              "facets": [],
              "filterSettings": {
                "SHOW_FILTER_PANEL": true,
                "filters": []
              },
              "id": "first-view",
              "isDefault": true,
              "isTransitory": true,
              "type": "public",
              "userID": ""
            },
            {
              "annotationRules": [],
              "chart": {
                "tableSparklines": true
              },
              "chartMode": "grid",
              "confoRules": [],
              "decoration": {
                "footer": "",
                "subtitle": "",
                "title": "Table (copy)"
              },
              "facets": [],
              "filterSettings": {
                "SHOW_FILTER_PANEL": true,
                "filters": []
              },
              "id": "f9046ec8-3ee0-400e-b944-1a39180b73e2",
              "isDefault": false,
              "type": "public",
              "userID": ""
            },
            {
              "annotationRules": [],
              "chart": {
                "adjacencyList": "EVENT_DATE",
                "areaType": "hexbin",
                "barGrouping": "Clustered",
                "barLabel": "none",
                "barProjection": "vertical",
                "barSubcategory": "none",
                "baseLayer": "world",
                "baseLayerFill": "#FFFFFF",
                "baseLayerStroke": "#000000",
                "bgColor": "none",
                "bigNumberComparison": "raw",
                "bigNumberSecondMetric": "LATITUDE",
                "boundingSettings": {
                  "FATALITIES": {
                    "lowerBoundingMetric": "none",
                    "upperBoundingMetric": "none"
                  },
                  "INTER1": {
                    "lowerBoundingMetric": "none",
                    "upperBoundingMetric": "none"
                  },
                  "INTER2": {
                    "lowerBoundingMetric": "none",
                    "upperBoundingMetric": "none"
                  },
                  "INTERACTION": {
                    "lowerBoundingMetric": "none",
                    "upperBoundingMetric": "none"
                  },
                  "LATITUDE": {
                    "lowerBoundingMetric": "none",
                    "upperBoundingMetric": "none"
                  },
                  "LONGITUDE": {
                    "lowerBoundingMetric": "none",
                    "upperBoundingMetric": "none"
                  },
                  "index": {
                    "lowerBoundingMetric": "none",
                    "upperBoundingMetric": "none"
                  }
                },
                "boundingType": "absolute",
                "boxplotOutliers": false,
                "candleClose": "LATITUDE",
                "candleHigh": "LATITUDE",
                "candleLow": "LATITUDE",
                "candleOpen": "LATITUDE",
                "columnLine": false,
                "combinationMode": "SUM",
                "cspOrder": "FATALITIES",
                "deselectedKeysHash": {},
                "dim1": "index",
                "dim2": "EVENT_DATE",
                "dim3": "none",
                "edgeMode": "edge list",
                "facetMetrics": [],
                "facets": [],
                "filteredDataOnly": "All Data",
                "formulaDisplay": "none",
                "funnelColorMode": "node",
                "funnelData": "metric",
                "funnelDirection": "linear",
                "funnelMetricOrder": [
                  "LONGITUDE",
                  "LATITUDE",
                  "FATALITIES",
                  "INTERACTION",
                  "INTER2",
                  "INTER1",
                  "index"
                ],
                "funnelMode": "bar",
                "gridSize": 10,
                "groupOther": false,
                "hierarchyType": "dendrogram",
                "isBrushing": false,
                "labelType": "stem",
                "layerSettings": [
                  {
                    "color": "#000000",
                    "hoverOpts": {
                      "dims": [
                        "index",
                        "EVENT_DATE",
                        "DISORDER_TYPE",
                        "EVENT_TYPE",
                        "SUB_EVENT_TYPE",
                        "ACTOR1",
                        "ASSOC_ACTOR_1",
                        "INTER1",
                        "ACTOR2",
                        "ASSOC_ACTOR_2",
                        "INTER2",
                        "INTERACTION",
                        "CIVILIAN_TARGETING",
                        "LOCATION",
                        "NOTES",
                        "FATALITIES"
                      ],
                      "mets": [
                        "LONGITUDE",
                        "LATITUDE",
                        "FATALITIES",
                        "INTERACTION",
                        "INTER2",
                        "INTER1",
                        "EVENT_DATE",
                        "index"
                      ]
                    },
                    "id": "ca35fc34-746d-4be7-b570-13663772dba0",
                    "latDim": "LATITUDE",
                    "longDim": "LONGITUDE",
                    "pointSizeOpts": {
                      "max": 2.406,
                      "met": "LONGITUDE",
                      "min": -5.417,
                      "mode": "fixed",
                      "scale": "Linear",
                      "size": 2,
                      "sizeMax": 10,
                      "sizeMin": 1
                    },
                    "size": 2,
                    "stroke": "#000000",
                    "strokeWidth": 1,
                    "transparency": 0.9,
                    "type": "point"
                  }
                ],
                "lineBrush": {
                  "x": null
                },
                "lineInterpolator": "monotone",
                "lineLabels": "none",
                "lineSmoothing": "daily",
                "lineType": "line",
                "mapMode": "tile",
                "mapZoom": "basemap",
                "marginalGraphics": "none",
                "metric1": "LONGITUDE",
                "metric2": "LATITUDE",
                "metric3": "none",
                "metric4": "none",
                "multiAxisLine": false,
                "networkLabel": "none",
                "networkLabelContents": "id",
                "networkType": "force",
                "parCoordsColor": "none",
                "parcoordsColumns": [
                  "DISORDER_TYPE",
                  "EVENT_TYPE",
                  "SUB_EVENT_TYPE",
                  "ACTOR1",
                  "ASSOC_ACTOR_1",
                  "ACTOR2",
                  "ASSOC_ACTOR_2",
                  "CIVILIAN_TARGETING",
                  "LOCATION",
                  "NOTES",
                  "index",
                  "EVENT_DATE",
                  "INTER1",
                  "INTER2",
                  "INTERACTION",
                  "LATITUDE",
                  "LONGITUDE",
                  "FATALITIES"
                ],
                "pieLabelContents": "name",
                "pieLabelType": "rim",
                "primaryKey": [],
                "proBarMode": "Combined",
                "radarData": "row",
                "scatterplotColor": "none",
                "scatterplotSize": "none",
                "secondBarMetric": "none",
                "selectedDimensions": [
                  "CIVILIAN_TARGETING"
                ],
                "selectedMetrics": [
                  "FATALITIES"
                ],
                "selectedMetricsDiverging": [],
                "showContours": false,
                "showTotal": true,
                "sortColumnsBy": "asc-val",
                "sparkchart": "none",
                "splitLinesBy": "EVENT_TYPE",
                "splomMode": "correlation",
                "summaryBins": 30,
                "summaryType": "violin",
                "surveyDataType": "row",
                "surveyResponses": {
                  "negative": [],
                  "neutral": [],
                  "positive": []
                },
                "tableSparklines": true,
                "tableStatistics": true,
                "textDataFormat": "sentence",
                "timeseriesSort": "EVENT_DATE",
                "tokenMetric": "LATITUDE",
                "trendLine": "none",
                "violinIQR": false,
                "wordColor": "none",
                "wordData": "DISORDER_TYPE",
                "wordRotate": "none",
                "zeroBaseline": false
              },
              "chartMode": "line",
              "confoRules": [],
              "decoration": {
                "footer": "",
                "subtitle": "",
                "title": "Table (copy)"
              },
              "facets": [],
              "filterSettings": {
                "SHOW_FILTER_PANEL": true,
                "filters": [
                  {
                    "column": "EVENT_DATE",
                    "end": "2023-04-01T04:00:00.000Z",
                    "predicate": "between",
                    "start": "2018-07-22T12:08:11.052Z",
                    "type": "DATE_FILTER"
                  }
                ]
              },
              "id": "f9046ec8-3ee0-400e-b944-1a39180b73e2",
              "isDefault": false,
              "isTransitory": true,
              "size": {
                "height": 309,
                "width": 309
              },
              "type": "public",
              "userID": ""
            }
          ]
        }
      },
      "execution_count": null,
      "source": "burkina_df",
      "outputs": []
    },
    {
      "id": "f8c08967-d131-4222-934f-2792f129c114",
      "cell_type": "code",
      "metadata": {
        "jupyter": {
          "outputs_hidden": false,
          "source_hidden": false
        },
        "noteable": {
          "cell_type": "code"
        }
      },
      "execution_count": null,
      "source": "",
      "outputs": []
    }
  ]
}