{
  "nbformat": 4,
  "nbformat_minor": 5,
  "metadata": {
    "noteable": {
      "last_transaction_id": "4e20abc9-c581-46ea-9406-a6607ea24dac",
      "db_connection": "@noteable"
    },
    "selected_hardware_size": "small"
  },
  "cells": [
    {
      "id": "5f0bd683-504e-47a5-a734-50ee90f33eed",
      "cell_type": "code",
      "metadata": {
        "jupyter": {
          "outputs_hidden": false,
          "source_hidden": false
        },
        "noteable": {
          "cell_type": "code",
          "output_collection_id": "2674ff5e-c587-4784-959b-3a7ca2dfc972"
        },
        "datalink": {
          "4999e8fc-0985-482f-91c2-042a1af516af": {
            "applied_filters": [],
            "dataframe_info": {
              "default_index_used": true,
              "orig_num_cols": 17,
              "orig_num_rows": 8527,
              "orig_size_bytes": 1159800,
              "truncated_num_cols": 18,
              "truncated_num_rows": 8527,
              "truncated_size_bytes": 1228016
            },
            "display_id": "4999e8fc-0985-482f-91c2-042a1af516af",
            "dx_settings": {
              "ALLOW_NOTEABLE_ATTRS": true,
              "COLUMN_SAMPLING_METHOD": "outer",
              "DB_LOCATION": ":memory:",
              "DEV_MODE": false,
              "DISPLAY_MAX_COLUMNS": 50,
              "DISPLAY_MAX_ROWS": 50000,
              "DISPLAY_MODE": "simple",
              "ENABLE_ASSIGNMENT": true,
              "ENABLE_DATALINK": false,
              "ENABLE_RENAMER": true,
              "FLATTEN_COLUMN_VALUES": true,
              "FLATTEN_INDEX_VALUES": false,
              "GENERATE_DEX_METADATA": false,
              "HTML_TABLE_SCHEMA": false,
              "LOG_LEVEL": 30,
              "MAX_RENDER_SIZE_BYTES": 104857600,
              "NUM_PAST_SAMPLES_TRACKED": 3,
              "RANDOM_STATE": 12648430,
              "RESET_INDEX_VALUES": false,
              "ROW_SAMPLING_METHOD": "random",
              "SAMPLING_FACTOR": 0.1,
              "SAMPLING_METHOD": "random",
              "STRINGIFY_COLUMN_VALUES": true,
              "STRINGIFY_INDEX_VALUES": false
            },
            "sample_history": [],
            "sampling_time": "2023-05-14T15:37:16.309809",
            "user_variable_name": "pd.read_csv('burkina_df.csv')",
            "variable_name": "CSV_TO_GRID_DF"
          },
          "16a1a174-a44c-4c0c-b922-e17e4a635df5": {
            "applied_filters": [],
            "dataframe_info": {
              "default_index_used": true,
              "orig_num_cols": 17,
              "orig_num_rows": 5,
              "orig_size_bytes": 808,
              "truncated_num_cols": 17,
              "truncated_num_rows": 5,
              "truncated_size_bytes": 808,
              "truncated_string_columns": []
            },
            "display_id": "16a1a174-a44c-4c0c-b922-e17e4a635df5",
            "dx_settings": {
              "ALLOW_NOTEABLE_ATTRS": true,
              "COLUMN_SAMPLING_METHOD": "outer",
              "DB_LOCATION": ":memory:",
              "DEV_MODE": false,
              "DISPLAY_MAX_COLUMNS": 100,
              "DISPLAY_MAX_ROWS": 50000,
              "DISPLAY_MODE": "simple",
              "ENABLE_ASSIGNMENT": true,
              "ENABLE_DATALINK": true,
              "FLATTEN_COLUMN_VALUES": true,
              "FLATTEN_INDEX_VALUES": false,
              "GENERATE_DEX_METADATA": false,
              "HTML_TABLE_SCHEMA": false,
              "LOG_LEVEL": 30,
              "MAX_RENDER_SIZE_BYTES": 104857600,
              "MAX_STRING_LENGTH": 250,
              "NUM_PAST_SAMPLES_TRACKED": 3,
              "RANDOM_STATE": 12648430,
              "RESET_INDEX_VALUES": false,
              "ROW_SAMPLING_METHOD": "random",
              "SAMPLING_FACTOR": 0.1,
              "SAMPLING_METHOD": "random",
              "STRINGIFY_COLUMN_VALUES": true,
              "STRINGIFY_INDEX_VALUES": false
            },
            "sample_history": [],
            "sampling_time": "2023-05-14T15:43:20.262158",
            "user_variable_name": null,
            "variable_name": "unk_dataframe_80388d57925443c19b0d838d7086b11f"
          },
          "74e5c534-85d7-4925-86df-15dee526b9c7": {
            "applied_filters": [],
            "dataframe_info": {
              "default_index_used": true,
              "orig_num_cols": 18,
              "orig_num_rows": 5,
              "orig_size_bytes": 848,
              "truncated_num_cols": 18,
              "truncated_num_rows": 5,
              "truncated_size_bytes": 848,
              "truncated_string_columns": []
            },
            "display_id": "74e5c534-85d7-4925-86df-15dee526b9c7",
            "dx_settings": {
              "ALLOW_NOTEABLE_ATTRS": true,
              "COLUMN_SAMPLING_METHOD": "outer",
              "DB_LOCATION": ":memory:",
              "DEV_MODE": false,
              "DISPLAY_MAX_COLUMNS": 100,
              "DISPLAY_MAX_ROWS": 50000,
              "DISPLAY_MODE": "simple",
              "ENABLE_ASSIGNMENT": true,
              "ENABLE_DATALINK": true,
              "FLATTEN_COLUMN_VALUES": true,
              "FLATTEN_INDEX_VALUES": false,
              "GENERATE_DEX_METADATA": false,
              "HTML_TABLE_SCHEMA": false,
              "LOG_LEVEL": 30,
              "MAX_RENDER_SIZE_BYTES": 104857600,
              "MAX_STRING_LENGTH": 250,
              "NUM_PAST_SAMPLES_TRACKED": 3,
              "RANDOM_STATE": 12648430,
              "RESET_INDEX_VALUES": false,
              "ROW_SAMPLING_METHOD": "random",
              "SAMPLING_FACTOR": 0.1,
              "SAMPLING_METHOD": "random",
              "STRINGIFY_COLUMN_VALUES": true,
              "STRINGIFY_INDEX_VALUES": false
            },
            "sample_history": [],
            "sampling_time": "2023-05-14T15:48:43.240796",
            "user_variable_name": null,
            "variable_name": "unk_dataframe_0aa8fb9180cd41ddba507feac29a37d4"
          },
          "cd996ece-52a6-4d2b-9b7e-ca830d10510a": {
            "applied_filters": [],
            "dataframe_info": {
              "default_index_used": false,
              "orig_num_cols": 16,
              "orig_num_rows": 8527,
              "orig_size_bytes": 1159672,
              "truncated_num_cols": 16,
              "truncated_num_rows": 8527,
              "truncated_size_bytes": 1159672,
              "truncated_string_columns": [
                "ASSOC_ACTOR_1",
                "NOTES"
              ]
            },
            "display_id": "cd996ece-52a6-4d2b-9b7e-ca830d10510a",
            "dx_settings": {
              "ALLOW_NOTEABLE_ATTRS": true,
              "COLUMN_SAMPLING_METHOD": "outer",
              "DB_LOCATION": ":memory:",
              "DEV_MODE": false,
              "DISPLAY_MAX_COLUMNS": 100,
              "DISPLAY_MAX_ROWS": 50000,
              "DISPLAY_MODE": "simple",
              "ENABLE_ASSIGNMENT": true,
              "ENABLE_DATALINK": true,
              "FLATTEN_COLUMN_VALUES": true,
              "FLATTEN_INDEX_VALUES": false,
              "GENERATE_DEX_METADATA": false,
              "HTML_TABLE_SCHEMA": false,
              "LOG_LEVEL": 30,
              "MAX_RENDER_SIZE_BYTES": 104857600,
              "MAX_STRING_LENGTH": 250,
              "NUM_PAST_SAMPLES_TRACKED": 3,
              "RANDOM_STATE": 12648430,
              "RESET_INDEX_VALUES": false,
              "ROW_SAMPLING_METHOD": "random",
              "SAMPLING_FACTOR": 0.1,
              "SAMPLING_METHOD": "random",
              "STRINGIFY_COLUMN_VALUES": true,
              "STRINGIFY_INDEX_VALUES": false
            },
            "sample_history": [],
            "sampling_time": "2023-05-14T15:51:15.494152",
            "user_variable_name": "burkina_df",
            "variable_name": "burkina_df"
          },
          "81b25d86-3467-452c-a20b-1936ef5571e0": {
            "applied_filters": [],
            "dataframe_info": {
              "default_index_used": true,
              "orig_num_cols": 17,
              "orig_num_rows": 8527,
              "orig_size_bytes": 1159800,
              "truncated_num_cols": 17,
              "truncated_num_rows": 8527,
              "truncated_size_bytes": 1159800,
              "truncated_string_columns": [
                "ASSOC_ACTOR_1",
                "NOTES"
              ]
            },
            "display_id": "81b25d86-3467-452c-a20b-1936ef5571e0",
            "dx_settings": {
              "ALLOW_NOTEABLE_ATTRS": true,
              "COLUMN_SAMPLING_METHOD": "outer",
              "DB_LOCATION": ":memory:",
              "DEV_MODE": false,
              "DISPLAY_MAX_COLUMNS": 100,
              "DISPLAY_MAX_ROWS": 50000,
              "DISPLAY_MODE": "simple",
              "ENABLE_ASSIGNMENT": true,
              "ENABLE_DATALINK": true,
              "FLATTEN_COLUMN_VALUES": true,
              "FLATTEN_INDEX_VALUES": false,
              "GENERATE_DEX_METADATA": false,
              "HTML_TABLE_SCHEMA": false,
              "LOG_LEVEL": 30,
              "MAX_RENDER_SIZE_BYTES": 104857600,
              "MAX_STRING_LENGTH": 250,
              "NUM_PAST_SAMPLES_TRACKED": 3,
              "RANDOM_STATE": 12648430,
              "RESET_INDEX_VALUES": false,
              "ROW_SAMPLING_METHOD": "random",
              "SAMPLING_FACTOR": 0.1,
              "SAMPLING_METHOD": "random",
              "STRINGIFY_COLUMN_VALUES": true,
              "STRINGIFY_INDEX_VALUES": false
            },
            "sample_history": [],
            "sampling_time": "2023-05-14T16:05:59.545603",
            "user_variable_name": "burkina_df",
            "variable_name": "burkina_df"
          }
        },
        "dx": {
          "fieldMetadata": {},
          "simpleTable": true,
          "updated": 1684078869887,
          "views": []
        },
        "ExecuteTime": {
          "end_time": "2023-05-14T16:05:59.833758+00:00",
          "start_time": "2023-05-14T16:05:59.010680+00:00"
        }
      },
      "execution_count": null,
      "source": "burkina_df = pd.read_csv('burkina_df.csv')\nburkina_df.set_index('EVENT_DATE', inplace=True)\nburkina_df.reset_index(inplace=True)\nburkina_df",
      "outputs": []
    },
    {
      "id": "0f27c8868b9f470e867cc37dbdf61190",
      "cell_type": "code",
      "metadata": {
        "noteable": {
          "assign_results_to": "sql_df_1",
          "cell_type": "sql",
          "db_connection": "@noteable",
          "output_collection_id": "eff3b8db-24a0-44a3-b9bc-be793e112232"
        },
        "ExecuteTime": {
          "end_time": "2023-05-14T16:07:53.041488+00:00",
          "start_time": "2023-05-14T16:07:52.868483+00:00"
        },
        "datalink": {
          "ac48825e-bef8-43d9-9ec2-ea2e393dc64a": {
            "applied_filters": [],
            "dataframe_info": {
              "default_index_used": true,
              "orig_num_cols": 16,
              "orig_num_rows": 8527,
              "orig_size_bytes": 1091584,
              "truncated_num_cols": 16,
              "truncated_num_rows": 8527,
              "truncated_size_bytes": 1091584,
              "truncated_string_columns": [
                "ASSOC_ACTOR_1",
                "NOTES"
              ]
            },
            "display_id": "ac48825e-bef8-43d9-9ec2-ea2e393dc64a",
            "dx_settings": {
              "ALLOW_NOTEABLE_ATTRS": true,
              "COLUMN_SAMPLING_METHOD": "outer",
              "DB_LOCATION": ":memory:",
              "DEV_MODE": false,
              "DISPLAY_MAX_COLUMNS": 100,
              "DISPLAY_MAX_ROWS": 50000,
              "DISPLAY_MODE": "simple",
              "ENABLE_ASSIGNMENT": true,
              "ENABLE_DATALINK": true,
              "FLATTEN_COLUMN_VALUES": true,
              "FLATTEN_INDEX_VALUES": false,
              "GENERATE_DEX_METADATA": false,
              "HTML_TABLE_SCHEMA": false,
              "LOG_LEVEL": 30,
              "MAX_RENDER_SIZE_BYTES": 104857600,
              "MAX_STRING_LENGTH": 250,
              "NUM_PAST_SAMPLES_TRACKED": 3,
              "RANDOM_STATE": 12648430,
              "RESET_INDEX_VALUES": false,
              "ROW_SAMPLING_METHOD": "random",
              "SAMPLING_FACTOR": 0.1,
              "SAMPLING_METHOD": "random",
              "STRINGIFY_COLUMN_VALUES": true,
              "STRINGIFY_INDEX_VALUES": false
            },
            "sample_history": [],
            "sampling_time": "2023-05-14T16:00:35.826222",
            "user_variable_name": "sql_df_1",
            "variable_name": "sql_df_1"
          }
        }
      },
      "execution_count": null,
      "source": "SELECT * FROM burkina_df\nWHERE EVENT_DATE >= 2013-01-01 AND == (SELECT MAX(ROWID) FROM burkina_df);",
      "outputs": []
    },
    {
      "id": "94a917f4-d92a-4de0-b99c-d24ce84db66f",
      "cell_type": "code",
      "metadata": {
        "jupyter": {
          "outputs_hidden": false,
          "source_hidden": false
        },
        "noteable": {
          "cell_type": "code"
        }
      },
      "execution_count": null,
      "source": "",
      "outputs": []
    }
  ]
}